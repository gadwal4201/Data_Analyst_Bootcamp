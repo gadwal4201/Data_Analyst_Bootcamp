{
 "cells": [
  {
   "cell_type": "markdown",
   "id": "d99c676d",
   "metadata": {},
   "source": [
    "# Standard Library"
   ]
  },
  {
   "cell_type": "code",
   "execution_count": null,
   "id": "21f86b71",
   "metadata": {},
   "outputs": [],
   "source": [
    "# Standard Library is a subset of the Python standard library\n",
    "# that is guaranteed to be available on all supported Python versions.\n",
    "\n"
   ]
  },
  {
   "cell_type": "code",
   "execution_count": 1,
   "id": "12023b80",
   "metadata": {},
   "outputs": [
    {
     "name": "stdout",
     "output_type": "stream",
     "text": [
      "array('i', [1, 2, 3, 4, 5])\n"
     ]
    }
   ],
   "source": [
    "import array\n",
    "\n",
    "arr = array.array('i', [1, 2, 3, 4, 5])\n",
    "print(arr)  # Output: array('i', [1, 2, 3"
   ]
  },
  {
   "cell_type": "code",
   "execution_count": 2,
   "id": "d5f30e42",
   "metadata": {},
   "outputs": [
    {
     "name": "stdout",
     "output_type": "stream",
     "text": [
      "4.0\n"
     ]
    }
   ],
   "source": [
    "import math\n",
    "print(math.sqrt(16))  # Output: 4.0, 4, 5])"
   ]
  },
  {
   "cell_type": "code",
   "execution_count": 6,
   "id": "18ba53f1",
   "metadata": {},
   "outputs": [
    {
     "name": "stdout",
     "output_type": "stream",
     "text": [
      "5\n",
      "banana\n"
     ]
    }
   ],
   "source": [
    "import random\n",
    "\n",
    "print(random.randint(1,10))  # Output: Random integer between 1 and 10\n",
    "\n",
    "print(random.choice(['apple', 'banana', 'cherry']))  # Output: Randomly chosen fruit"
   ]
  },
  {
   "cell_type": "code",
   "execution_count": 7,
   "id": "c9c16d26",
   "metadata": {},
   "outputs": [
    {
     "name": "stdout",
     "output_type": "stream",
     "text": [
      "d:\\Data_Analyst_Bootcamp\\Python\\Modules\n"
     ]
    }
   ],
   "source": [
    "# file and directory management\n",
    "import os\n",
    "\n",
    "print(os.getcwd())  # Output: Current working directory"
   ]
  },
  {
   "cell_type": "code",
   "execution_count": 8,
   "id": "433ae9fa",
   "metadata": {},
   "outputs": [],
   "source": [
    "os.mkdir('new_directory')  # Creates a new directory named 'new_directory'"
   ]
  },
  {
   "cell_type": "code",
   "execution_count": 9,
   "id": "9290d4c3",
   "metadata": {},
   "outputs": [
    {
     "ename": "PermissionError",
     "evalue": "[WinError 5] Access is denied: 'new_directory'",
     "output_type": "error",
     "traceback": [
      "\u001b[31m---------------------------------------------------------------------------\u001b[39m",
      "\u001b[31mPermissionError\u001b[39m                           Traceback (most recent call last)",
      "\u001b[36mCell\u001b[39m\u001b[36m \u001b[39m\u001b[32mIn[9]\u001b[39m\u001b[32m, line 1\u001b[39m\n\u001b[32m----> \u001b[39m\u001b[32m1\u001b[39m \u001b[43mos\u001b[49m\u001b[43m.\u001b[49m\u001b[43mremove\u001b[49m\u001b[43m(\u001b[49m\u001b[33;43m'\u001b[39;49m\u001b[33;43mnew_directory\u001b[39;49m\u001b[33;43m'\u001b[39;49m\u001b[43m)\u001b[49m  \u001b[38;5;66;03m# Removes the directory named 'new_directory'\u001b[39;00m\n",
      "\u001b[31mPermissionError\u001b[39m: [WinError 5] Access is denied: 'new_directory'"
     ]
    }
   ],
   "source": [
    "os.remove('new_directory')  # Removes the directory named 'new_directory'"
   ]
  },
  {
   "cell_type": "code",
   "execution_count": null,
   "id": "86ffab7c",
   "metadata": {},
   "outputs": [
    {
     "data": {
      "text/plain": [
       "'destination.txt'"
      ]
     },
     "execution_count": 11,
     "metadata": {},
     "output_type": "execute_result"
    }
   ],
   "source": [
    "# copy data from one file to another\n",
    "# shutil module provides a higher level interface for file operations\n",
    "\n",
    "import shutil\n",
    "shutil.copy('source.txt', 'destination.txt')  # Copies content from source.txt to destination.txt"
   ]
  },
  {
   "cell_type": "code",
   "execution_count": 14,
   "id": "c50f9907",
   "metadata": {},
   "outputs": [
    {
     "name": "stdout",
     "output_type": "stream",
     "text": [
      "{\"name\": \"Alice\", \"age\": 30, \"city\": \"New York\"}\n",
      "<class 'str'>\n",
      "{'name': 'Alice', 'age': 30, 'city': 'New York'}\n",
      "<class 'dict'>\n"
     ]
    }
   ],
   "source": [
    "# Data Serialization\n",
    "import json\n",
    "\n",
    "data = {\n",
    "    'name': 'Alice',\n",
    "    'age': 30,\n",
    "    'city': 'New York'\n",
    "}\n",
    "\n",
    "json_string = json.dumps(data)\n",
    "print(json_string)  # Output: JSON string representation of the data\n",
    "\n",
    "print(type(json_string))  # Output: <class 'str'>\n",
    "\n",
    "parsed_data = json.loads(json_string)\n",
    "print(parsed_data)  # Output: Original dictionary\n",
    "print(type(parsed_data))  # Output: <class 'dict'>"
   ]
  },
  {
   "cell_type": "code",
   "execution_count": 15,
   "id": "3f014aa3",
   "metadata": {},
   "outputs": [
    {
     "name": "stdout",
     "output_type": "stream",
     "text": [
      "['Name', 'Age', 'City']\n",
      "['Alice', '30', 'New York']\n",
      "['Bob', '25', 'Los Angeles']\n"
     ]
    }
   ],
   "source": [
    "# csv file handling\n",
    "import csv\n",
    "with open('data.csv', mode='w', newline='') as file:\n",
    "    writer = csv.writer(file)\n",
    "    writer.writerow(['Name', 'Age', 'City'])\n",
    "    writer.writerow(['Alice', 30, 'New York'])  # Output: array('i', [1, 2, 3, 4, 5])\n",
    "    writer.writerow(['Bob', 25, 'Los Angeles'])  # Output: 4.0, 4, 5])\n",
    "    \n",
    "with open('data.csv', mode='r') as file:\n",
    "    reader = csv.reader(file)\n",
    "    for row in reader:\n",
    "        print(row)  # Output: Each row in the CSV file as a list\n"
   ]
  },
  {
   "cell_type": "code",
   "execution_count": 16,
   "id": "c8a3b543",
   "metadata": {},
   "outputs": [
    {
     "name": "stdout",
     "output_type": "stream",
     "text": [
      "Current date and time: 2025-09-11 11:26:31.492861\n",
      "Yesterday's date and time: 2025-09-10 11:26:31.492861\n"
     ]
    }
   ],
   "source": [
    "# date and time manipulation\n",
    "\n",
    "from datetime import datetime, timedelta\n",
    "\n",
    "now = datetime.now()\n",
    "print(\"Current date and time:\", now)  # Output: Current date and time\n",
    "\n",
    "yesterday = now - timedelta(days=1)\n",
    "print(\"Yesterday's date and time:\", yesterday)  # Output: Yesterday's date and time"
   ]
  },
  {
   "cell_type": "code",
   "execution_count": 17,
   "id": "f5ed7b7b",
   "metadata": {},
   "outputs": [
    {
     "name": "stdout",
     "output_type": "stream",
     "text": [
      "Current timestamp: 1757570286.7973216\n",
      "1757570288.7988544\n",
      "Awake after 2 seconds\n"
     ]
    }
   ],
   "source": [
    "import time\n",
    "print(\"Current timestamp:\", time.time())  # Output: Current timestamp in seconds since epoch\n",
    "\n",
    "\n",
    "time.sleep(2)  # Pauses execution for 2 seconds\n",
    "print(time.time())  # Output: Timestamp after 2 seconds\n",
    "print(\"Awake after 2 seconds\")"
   ]
  },
  {
   "cell_type": "code",
   "execution_count": 18,
   "id": "896abfd3",
   "metadata": {},
   "outputs": [
    {
     "name": "stdout",
     "output_type": "stream",
     "text": [
      "123\n"
     ]
    }
   ],
   "source": [
    "# Regular Expressions\n",
    "import re\n",
    "\n",
    "pattern = r'\\d+'  # Matches one or more digits\n",
    "text = \"There are 123 apples and 456 oranges.\"\n",
    "match = re.search(pattern, text)\n",
    "print(match.group())  # Output: 123\n"
   ]
  },
  {
   "cell_type": "code",
   "execution_count": null,
   "id": "969e36f6",
   "metadata": {},
   "outputs": [],
   "source": []
  }
 ],
 "metadata": {
  "kernelspec": {
   "display_name": ".venv",
   "language": "python",
   "name": "python3"
  },
  "language_info": {
   "codemirror_mode": {
    "name": "ipython",
    "version": 3
   },
   "file_extension": ".py",
   "mimetype": "text/x-python",
   "name": "python",
   "nbconvert_exporter": "python",
   "pygments_lexer": "ipython3",
   "version": "3.12.4"
  }
 },
 "nbformat": 4,
 "nbformat_minor": 5
}
