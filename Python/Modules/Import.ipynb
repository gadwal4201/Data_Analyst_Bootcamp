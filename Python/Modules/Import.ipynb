{
 "cells": [
  {
   "cell_type": "markdown",
   "id": "a7898169",
   "metadata": {},
   "source": [
    "# Importing Modules"
   ]
  },
  {
   "cell_type": "code",
   "execution_count": 1,
   "id": "9d24a862",
   "metadata": {},
   "outputs": [
    {
     "data": {
      "text/plain": [
       "4.0"
      ]
     },
     "execution_count": 1,
     "metadata": {},
     "output_type": "execute_result"
    }
   ],
   "source": [
    "import math\n",
    "\n",
    "math.sqrt(16)  # 4.0"
   ]
  },
  {
   "cell_type": "code",
   "execution_count": 2,
   "id": "911ed756",
   "metadata": {},
   "outputs": [
    {
     "name": "stdout",
     "output_type": "stream",
     "text": [
      "5.0\n",
      "3.141592653589793\n"
     ]
    }
   ],
   "source": [
    "from math import sqrt, pi\n",
    "\n",
    "print(sqrt(25))  # 5.0\n",
    "print(pi)  # 3.141592653589793"
   ]
  },
  {
   "cell_type": "code",
   "execution_count": 4,
   "id": "02c323f8",
   "metadata": {},
   "outputs": [
    {
     "data": {
      "text/plain": [
       "np.float64(6.0)"
      ]
     },
     "execution_count": 4,
     "metadata": {},
     "output_type": "execute_result"
    }
   ],
   "source": [
    "import numpy as np\n",
    "\n",
    "# pip install numpy\n",
    "# pip install -r requirement.txt\n",
    "\n",
    "np.sqrt(36)  # 6.0"
   ]
  },
  {
   "cell_type": "code",
   "execution_count": null,
   "id": "d33296f5",
   "metadata": {},
   "outputs": [
    {
     "data": {
      "text/plain": [
       "15"
      ]
     },
     "execution_count": 5,
     "metadata": {},
     "output_type": "execute_result"
    }
   ],
   "source": [
    "from package.maths import addition # Assuming package is in the same directory or installed\n",
    "\n",
    "# It is your own custom module\n",
    "addition(5, 10)  # 15"
   ]
  },
  {
   "cell_type": "code",
   "execution_count": 6,
   "id": "a30e71a7",
   "metadata": {},
   "outputs": [
    {
     "data": {
      "text/plain": [
       "50"
      ]
     },
     "execution_count": 6,
     "metadata": {},
     "output_type": "execute_result"
    }
   ],
   "source": [
    "from package import maths\n",
    "\n",
    "maths.addition(20, 30)  # 50"
   ]
  },
  {
   "cell_type": "code",
   "execution_count": 8,
   "id": "c69edf40",
   "metadata": {},
   "outputs": [
    {
     "ename": "NameError",
     "evalue": "name 'subtraction' is not defined",
     "output_type": "error",
     "traceback": [
      "\u001b[31m---------------------------------------------------------------------------\u001b[39m",
      "\u001b[31mNameError\u001b[39m                                 Traceback (most recent call last)",
      "\u001b[36mCell\u001b[39m\u001b[36m \u001b[39m\u001b[32mIn[8]\u001b[39m\u001b[32m, line 4\u001b[39m\n\u001b[32m      1\u001b[39m \u001b[38;5;28;01mfrom\u001b[39;00m\u001b[38;5;250m \u001b[39m\u001b[34;01mpackage\u001b[39;00m\u001b[34;01m.\u001b[39;00m\u001b[34;01mmaths\u001b[39;00m\u001b[38;5;250m \u001b[39m\u001b[38;5;28;01mimport\u001b[39;00m *  \u001b[38;5;66;03m# .py file me jo bhi function hai wo import ho jayega\u001b[39;00m\n\u001b[32m      3\u001b[39m \u001b[38;5;66;03m# .ipynb file me jo bhi function hai wo import nahi hoga * se\u001b[39;00m\n\u001b[32m----> \u001b[39m\u001b[32m4\u001b[39m \u001b[43msubtraction\u001b[49m(\u001b[32m10\u001b[39m, \u001b[32m5\u001b[39m)  \u001b[38;5;66;03m# 5\u001b[39;00m\n\u001b[32m      5\u001b[39m \u001b[38;5;66;03m# addition(10, 5)  # Error: addition is not defined\u001b[39;00m\n",
      "\u001b[31mNameError\u001b[39m: name 'subtraction' is not defined"
     ]
    }
   ],
   "source": [
    "from package.maths import *  # .py file me jo bhi function hai wo import ho jayega\n",
    "\n",
    "# .ipynb file me jo bhi function hai wo import nahi hoga * se\n",
    "subtraction(10, 5)  # 5\n",
    "# addition(10, 5)  # Error: addition is not defined"
   ]
  },
  {
   "cell_type": "code",
   "execution_count": null,
   "id": "e77325d7",
   "metadata": {},
   "outputs": [],
   "source": []
  }
 ],
 "metadata": {
  "kernelspec": {
   "display_name": ".venv",
   "language": "python",
   "name": "python3"
  },
  "language_info": {
   "codemirror_mode": {
    "name": "ipython",
    "version": 3
   },
   "file_extension": ".py",
   "mimetype": "text/x-python",
   "name": "python",
   "nbconvert_exporter": "python",
   "pygments_lexer": "ipython3",
   "version": "3.12.4"
  }
 },
 "nbformat": 4,
 "nbformat_minor": 5
}
