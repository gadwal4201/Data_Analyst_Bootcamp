{
 "cells": [
  {
   "cell_type": "markdown",
   "id": "15c46eda",
   "metadata": {},
   "source": [
    "# Tuples"
   ]
  },
  {
   "cell_type": "code",
   "execution_count": 3,
   "id": "2ff10e09",
   "metadata": {},
   "outputs": [
    {
     "name": "stdout",
     "output_type": "stream",
     "text": [
      "(1, 2, 3, 4, 5, 'one', 'two', 'three', 'four', 'five')\n",
      "<class 'tuple'>\n"
     ]
    }
   ],
   "source": [
    "numbers = (1, 2, 3, 4, 5)\n",
    "strings = ('one', 'two', 'three', 'four', 'five')\n",
    "\n",
    "concate = numbers + strings\n",
    "\n",
    "print(concate)  \n",
    "print(type(concate))"
   ]
  },
  {
   "cell_type": "code",
   "execution_count": 4,
   "id": "4fce3442",
   "metadata": {},
   "outputs": [
    {
     "name": "stdout",
     "output_type": "stream",
     "text": [
      "(1, 2, 3, 4, 5, 'one', 'two', 'three', 'four', 'five', 1, 2, 3, 4, 5, 'one', 'two', 'three', 'four', 'five', 1, 2, 3, 4, 5, 'one', 'two', 'three', 'four', 'five')\n"
     ]
    }
   ],
   "source": [
    "print(concate*3)"
   ]
  },
  {
   "cell_type": "code",
   "execution_count": 5,
   "id": "3a364c4e",
   "metadata": {},
   "outputs": [
    {
     "data": {
      "text/plain": [
       "(1, 2, 3, 4, 5, 1, 2, 3, 4, 5, 1, 2, 3, 4, 5)"
      ]
     },
     "execution_count": 5,
     "metadata": {},
     "output_type": "execute_result"
    }
   ],
   "source": [
    "numbers*3"
   ]
  },
  {
   "cell_type": "code",
   "execution_count": 6,
   "id": "5d71dac6",
   "metadata": {},
   "outputs": [],
   "source": [
    "# Tuples are immutable sequences, typically used to store collections of heterogeneous data."
   ]
  },
  {
   "cell_type": "code",
   "execution_count": 7,
   "id": "29913ee2",
   "metadata": {},
   "outputs": [
    {
     "name": "stdout",
     "output_type": "stream",
     "text": [
      "(1, 'hii', 3.14)\n"
     ]
    }
   ],
   "source": [
    "packed_tuple = 1,\"hii\",3.14\n",
    "print(packed_tuple)"
   ]
  },
  {
   "cell_type": "code",
   "execution_count": 8,
   "id": "fbe770d9",
   "metadata": {},
   "outputs": [
    {
     "name": "stdout",
     "output_type": "stream",
     "text": [
      "1\n",
      "hii\n",
      "3.14\n"
     ]
    }
   ],
   "source": [
    "# unpack tuple\n",
    "\n",
    "a,b,c = packed_tuple\n",
    "print(a)\n",
    "print(b)\n",
    "print(c)"
   ]
  },
  {
   "cell_type": "code",
   "execution_count": 9,
   "id": "6cea0001",
   "metadata": {},
   "outputs": [
    {
     "name": "stdout",
     "output_type": "stream",
     "text": [
      "1\n",
      "[2, 3, 4, 5, 6]\n",
      "7\n"
     ]
    }
   ],
   "source": [
    "n = (1,2,3,4,5,6,7)\n",
    "first, *middle, last = n\n",
    "print(first)\n",
    "print(middle)\n",
    "print(last)"
   ]
  },
  {
   "cell_type": "code",
   "execution_count": null,
   "id": "d6cb118f",
   "metadata": {},
   "outputs": [],
   "source": []
  }
 ],
 "metadata": {
  "kernelspec": {
   "display_name": ".venv",
   "language": "python",
   "name": "python3"
  },
  "language_info": {
   "codemirror_mode": {
    "name": "ipython",
    "version": 3
   },
   "file_extension": ".py",
   "mimetype": "text/x-python",
   "name": "python",
   "nbconvert_exporter": "python",
   "pygments_lexer": "ipython3",
   "version": "3.12.4"
  }
 },
 "nbformat": 4,
 "nbformat_minor": 5
}
