{
 "cells": [
  {
   "cell_type": "markdown",
   "id": "a87c1a8d",
   "metadata": {},
   "source": [
    "# Sets"
   ]
  },
  {
   "cell_type": "code",
   "execution_count": 1,
   "id": "e83c4157",
   "metadata": {},
   "outputs": [
    {
     "name": "stdout",
     "output_type": "stream",
     "text": [
      "{1, 2, 3, 4, 5}\n",
      "<class 'set'>\n"
     ]
    }
   ],
   "source": [
    "# Sets\n",
    "my_set = {1, 2, 3, 4, 5}\n",
    "print(my_set)\n",
    "print(type(my_set))"
   ]
  },
  {
   "cell_type": "code",
   "execution_count": 2,
   "id": "67c93906",
   "metadata": {},
   "outputs": [
    {
     "name": "stdout",
     "output_type": "stream",
     "text": [
      "{1, 2, 3, 4, 5, 6}\n",
      "{1, 2, 4, 5, 6}\n"
     ]
    }
   ],
   "source": [
    "# Basics sets operation\n",
    "\n",
    "my_set.add(6)\n",
    "print(my_set)\n",
    "my_set.remove(3)\n",
    "print(my_set)"
   ]
  },
  {
   "cell_type": "code",
   "execution_count": 3,
   "id": "aac03e90",
   "metadata": {},
   "outputs": [
    {
     "name": "stdout",
     "output_type": "stream",
     "text": [
      "{1, 2, 4, 5, 6}\n"
     ]
    }
   ],
   "source": [
    "my_set.discard(10)  # No error if element not found\n",
    "print(my_set)"
   ]
  },
  {
   "cell_type": "code",
   "execution_count": 4,
   "id": "efb3b91b",
   "metadata": {},
   "outputs": [
    {
     "name": "stdout",
     "output_type": "stream",
     "text": [
      "True\n",
      "False\n"
     ]
    }
   ],
   "source": [
    "# Set Membership testing\n",
    "print(4 in my_set)  # True\n",
    "print(10 in my_set)  # False"
   ]
  },
  {
   "cell_type": "code",
   "execution_count": 5,
   "id": "ee9cdfa1",
   "metadata": {},
   "outputs": [
    {
     "name": "stdout",
     "output_type": "stream",
     "text": [
      "{1, 2, 3, 4, 5, 6}\n",
      "{3, 4}\n",
      "{1, 2}\n"
     ]
    }
   ],
   "source": [
    "# Mathematical set operations\n",
    "set_a = {1, 2, 3, 4}\n",
    "set_b = {3, 4, 5, 6}\n",
    "print(set_a.union(set_b))  # Union\n",
    "print(set_a.intersection(set_b))  # Intersection\n",
    "print(set_a.difference(set_b))  # Difference"
   ]
  },
  {
   "cell_type": "code",
   "execution_count": 6,
   "id": "a2e8e2b6",
   "metadata": {},
   "outputs": [
    {
     "name": "stdout",
     "output_type": "stream",
     "text": [
      "{5, 6}\n"
     ]
    }
   ],
   "source": [
    "# Difference\n",
    "print(set_b.difference(set_a))  # Difference"
   ]
  },
  {
   "cell_type": "code",
   "execution_count": 7,
   "id": "af1ee2c4",
   "metadata": {},
   "outputs": [
    {
     "name": "stdout",
     "output_type": "stream",
     "text": [
      "{1, 2, 5, 6}\n"
     ]
    }
   ],
   "source": [
    "# Symmetric Difference\n",
    "print(set_a.symmetric_difference(set_b))  # Symmetric Difference"
   ]
  },
  {
   "cell_type": "code",
   "execution_count": 8,
   "id": "cd6f4d08",
   "metadata": {},
   "outputs": [],
   "source": [
    "# Sets Methods Reference\n",
    "# add(), remove(), discard(), pop(), clear(), union(), intersection(), difference(), symmetric_difference"
   ]
  },
  {
   "cell_type": "code",
   "execution_count": 9,
   "id": "699851e9",
   "metadata": {},
   "outputs": [
    {
     "name": "stdout",
     "output_type": "stream",
     "text": [
      "True\n",
      "True\n",
      "True\n"
     ]
    }
   ],
   "source": [
    "# Set Method : is_subset(), is_superset(), isdisjoint()\n",
    "\n",
    "# Examples\n",
    "A = {1, 2, 3}\n",
    "B = {2, 3}\n",
    "C = {4, 5}\n",
    "\n",
    "print(B.issubset(A))  # True\n",
    "print(A.issuperset(B))  # True\n",
    "print(A.isdisjoint(C))  # True"
   ]
  },
  {
   "cell_type": "code",
   "execution_count": null,
   "id": "5e017365",
   "metadata": {},
   "outputs": [],
   "source": []
  }
 ],
 "metadata": {
  "kernelspec": {
   "display_name": ".venv",
   "language": "python",
   "name": "python3"
  },
  "language_info": {
   "codemirror_mode": {
    "name": "ipython",
    "version": 3
   },
   "file_extension": ".py",
   "mimetype": "text/x-python",
   "name": "python",
   "nbconvert_exporter": "python",
   "pygments_lexer": "ipython3",
   "version": "3.12.4"
  }
 },
 "nbformat": 4,
 "nbformat_minor": 5
}
