{
 "cells": [
  {
   "cell_type": "markdown",
   "id": "4065f2ba",
   "metadata": {},
   "source": [
    "# Operators"
   ]
  },
  {
   "cell_type": "code",
   "execution_count": 1,
   "id": "f9ced759",
   "metadata": {},
   "outputs": [
    {
     "name": "stdout",
     "output_type": "stream",
     "text": [
      "False\n",
      "True\n"
     ]
    }
   ],
   "source": [
    "# Operators are symbols that perform operations on variables and values.\n",
    "# Arithmetic Operators: +, -, *, /, %, **, //\n",
    "# Comparison Operators: ==, !=, >, <, >=, <=\n",
    "# Logical Operators: and, or, not\n",
    "# Assignment Operators: =, +=, -=, *=, /=, %=, **=, //=\n",
    "# Bitwise Operators: &, |, ^, ~, <<, >>\n",
    "# Membership Operators: in, not in\n",
    "# Identity Operators: is, is not\n",
    "# Example usage:\n",
    "a = 10\n",
    "b = 20\n",
    "c = 10\n",
    "print(a is b)  # Outputs: False\n",
    "print(a is c)  # Outputs: True"
   ]
  },
  {
   "cell_type": "code",
   "execution_count": 2,
   "id": "210a7111",
   "metadata": {},
   "outputs": [
    {
     "name": "stdout",
     "output_type": "stream",
     "text": [
      "3\n",
      "1\n",
      "1000\n"
     ]
    }
   ],
   "source": [
    "a = 10\n",
    "b = 3\n",
    "\n",
    "floor_div = a // b  # Floor Division\n",
    "print(floor_div)  # Outputs: 3\n",
    "modulus = a % b    # Modulus\n",
    "print(modulus)     # Outputs: 1\n",
    "exponent = a ** b  # Exponentiation\n",
    "print(exponent)    # Outputs: 1000"
   ]
  },
  {
   "cell_type": "code",
   "execution_count": 3,
   "id": "b92d3f76",
   "metadata": {},
   "outputs": [],
   "source": [
    "# Floor division (//) returns the largest integer less than or equal to the division result.\n",
    "# Modulus (%) returns the remainder of the division.\n",
    "# Exponentiation (**) raises the number to the power of the exponent."
   ]
  },
  {
   "cell_type": "code",
   "execution_count": 4,
   "id": "c2176a4a",
   "metadata": {},
   "outputs": [
    {
     "name": "stdout",
     "output_type": "stream",
     "text": [
      "False\n",
      "True\n",
      "False\n",
      "True\n",
      "False\n",
      "True\n"
     ]
    }
   ],
   "source": [
    "# Comparison Operators\n",
    "x = 5\n",
    "y = 10\n",
    "print(x == y)  # Outputs: False\n",
    "print(x != y)  # Outputs: True\n",
    "print(x > y)   # Outputs: False\n",
    "print(x < y)   # Outputs: True\n",
    "print(x >= y)  # Outputs: False\n",
    "print(x <= y)  # Outputs: True"
   ]
  },
  {
   "cell_type": "code",
   "execution_count": 6,
   "id": "f2d6fb4f",
   "metadata": {},
   "outputs": [
    {
     "name": "stdout",
     "output_type": "stream",
     "text": [
      "False\n",
      "True\n",
      "False\n"
     ]
    }
   ],
   "source": [
    "# Logical Operators : and, or, not\n",
    "a = True\n",
    "b = False\n",
    "print(a and b)  # Outputs: False\n",
    "print(a or b)   # Outputs: True\n",
    "print(not a)    # Outputs: False"
   ]
  },
  {
   "cell_type": "code",
   "execution_count": 8,
   "id": "f4a61323",
   "metadata": {},
   "outputs": [
    {
     "name": "stdout",
     "output_type": "stream",
     "text": [
      "Result: 0.0\n"
     ]
    }
   ],
   "source": [
    "# Simple Calculator\n",
    "\n",
    "num1 = float(input(\"Enter first number: \"))\n",
    "num2 = float(input(\"Enter second number: \"))\n",
    "\n",
    "operation = input(\"Enter operation (+, -, *, /, //, %, **): \")\n",
    "\n",
    "if operation == \"+\":\n",
    "    result = num1 + num2\n",
    "elif operation == \"-\":\n",
    "    result = num1 - num2\n",
    "elif operation == \"*\":\n",
    "    result = num1 * num2\n",
    "elif operation == \"/\":\n",
    "    result = num1 / num2\n",
    "elif operation == \"//\":\n",
    "    result = num1 // num2\n",
    "elif operation == \"%\":\n",
    "    result = num1 % num2\n",
    "elif operation == \"**\":\n",
    "    result = num1 ** num2\n",
    "else:\n",
    "    result = \"Invalid operation\"\n",
    "\n",
    "print(\"Result:\", result)\n",
    "\n"
   ]
  },
  {
   "cell_type": "code",
   "execution_count": null,
   "id": "0925e425",
   "metadata": {},
   "outputs": [],
   "source": []
  }
 ],
 "metadata": {
  "kernelspec": {
   "display_name": ".venv",
   "language": "python",
   "name": "python3"
  },
  "language_info": {
   "codemirror_mode": {
    "name": "ipython",
    "version": 3
   },
   "file_extension": ".py",
   "mimetype": "text/x-python",
   "name": "python",
   "nbconvert_exporter": "python",
   "pygments_lexer": "ipython3",
   "version": "3.12.4"
  }
 },
 "nbformat": 4,
 "nbformat_minor": 5
}
