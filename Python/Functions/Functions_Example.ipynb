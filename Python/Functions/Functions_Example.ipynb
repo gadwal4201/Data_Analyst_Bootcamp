{
 "cells": [
  {
   "cell_type": "markdown",
   "id": "ea4b23fa",
   "metadata": {},
   "source": [
    "# Example of Functions"
   ]
  },
  {
   "cell_type": "markdown",
   "id": "93af5fd0",
   "metadata": {},
   "source": [
    "Example 1: Temperature Conversion"
   ]
  },
  {
   "cell_type": "code",
   "execution_count": 1,
   "id": "9baec435",
   "metadata": {},
   "outputs": [],
   "source": [
    "def convert_temperature(temp,unit):\n",
    "    \"\"\"This function converts temperature between Celsius and Fahrenheit.\"\"\"\n",
    "    \n",
    "    if unit == 'C':\n",
    "        return temp * 9/5 + 32  # Convert Celsius to Fahrenheit\n",
    "    elif unit == 'F':\n",
    "        return (temp - 32)*5/9  # Convert Fahrenheit to Celsius\n",
    "    else:\n",
    "        return None  # Invalid unit"
   ]
  },
  {
   "cell_type": "code",
   "execution_count": 2,
   "id": "b0801701",
   "metadata": {},
   "outputs": [
    {
     "data": {
      "text/plain": [
       "212.0"
      ]
     },
     "execution_count": 2,
     "metadata": {},
     "output_type": "execute_result"
    }
   ],
   "source": [
    "convert_temperature(100,'C')"
   ]
  },
  {
   "cell_type": "code",
   "execution_count": 3,
   "id": "7a9b4e2f",
   "metadata": {},
   "outputs": [
    {
     "data": {
      "text/plain": [
       "100.0"
      ]
     },
     "execution_count": 3,
     "metadata": {},
     "output_type": "execute_result"
    }
   ],
   "source": [
    "convert_temperature(212,'F')"
   ]
  },
  {
   "cell_type": "markdown",
   "id": "2bcd77ab",
   "metadata": {},
   "source": [
    "Example 2 : Password Strength Checker"
   ]
  },
  {
   "cell_type": "code",
   "execution_count": 4,
   "id": "5a0fece4",
   "metadata": {},
   "outputs": [],
   "source": [
    "def check_password_strength(password):\n",
    "    \"\"\"This function checks the strength of a given password.\"\"\"\n",
    "    \n",
    "    if len(password) < 8:\n",
    "        return False  # Password too short\n",
    "    if not any(char.isdigit() for char in password):\n",
    "        return False  # No digit in password\n",
    "    if not any(char.isupper() for char in password):\n",
    "        return False  # No uppercase letter in password\n",
    "    if not any(char.islower() for char in password):\n",
    "        return False  # No lowercase letter in password\n",
    "    if not any(char in '!@#$%^&*()-_+=' for char in password):\n",
    "        return False  # No special character in password\n",
    "    return True  # Password is strong"
   ]
  },
  {
   "cell_type": "code",
   "execution_count": 5,
   "id": "d44a302f",
   "metadata": {},
   "outputs": [
    {
     "data": {
      "text/plain": [
       "True"
      ]
     },
     "execution_count": 5,
     "metadata": {},
     "output_type": "execute_result"
    }
   ],
   "source": [
    "check_password_strength(\"StrongPass1!\")"
   ]
  },
  {
   "cell_type": "code",
   "execution_count": 6,
   "id": "7b03755c",
   "metadata": {},
   "outputs": [
    {
     "data": {
      "text/plain": [
       "False"
      ]
     },
     "execution_count": 6,
     "metadata": {},
     "output_type": "execute_result"
    }
   ],
   "source": [
    "check_password_strength(\"165jhbdhb\")"
   ]
  },
  {
   "cell_type": "markdown",
   "id": "59df0138",
   "metadata": {},
   "source": [
    "Example 3 : Calculate total coset of items in a shopping cart"
   ]
  },
  {
   "cell_type": "code",
   "execution_count": 7,
   "id": "2e6f36f5",
   "metadata": {},
   "outputs": [],
   "source": [
    "def calculate_total_cost(cart):\n",
    "    \"\"\"This function calculates the total cost of items in a shopping cart.\"\"\"\n",
    "    \n",
    "    total_cost = 0\n",
    "    for item in cart:\n",
    "        total_cost += item['price'] * item['quantity']\n",
    "    return total_cost\n",
    "\n",
    "cart = [{'item': 'apple', 'price': 1.2, 'quantity': 4},\n",
    "        {'item': 'banana', 'price': 0.5, 'quantity': 6},\n",
    "        {'item': 'milk', 'price': 2.0, 'quantity': 1}]"
   ]
  },
  {
   "cell_type": "code",
   "execution_count": 8,
   "id": "15c019f3",
   "metadata": {},
   "outputs": [
    {
     "data": {
      "text/plain": [
       "9.8"
      ]
     },
     "execution_count": 8,
     "metadata": {},
     "output_type": "execute_result"
    }
   ],
   "source": [
    "calculate_total_cost(cart)"
   ]
  },
  {
   "cell_type": "markdown",
   "id": "b36e9e92",
   "metadata": {},
   "source": [
    "Example 4 : Check if a string is palindrome or not"
   ]
  },
  {
   "cell_type": "code",
   "execution_count": 9,
   "id": "90c0ad23",
   "metadata": {},
   "outputs": [],
   "source": [
    "def is_palindrome(s):\n",
    "    \"\"\"This function checks if a given string is a palindrome.\"\"\"\n",
    "    \n",
    "    s = s.lower().replace(\" \",\"\") # remove spaces and convert to lowercase\n",
    "    return s==s[::-1]  # Check if string is equal to its reverse"
   ]
  },
  {
   "cell_type": "code",
   "execution_count": 10,
   "id": "9cfbcd7b",
   "metadata": {},
   "outputs": [
    {
     "data": {
      "text/plain": [
       "True"
      ]
     },
     "execution_count": 10,
     "metadata": {},
     "output_type": "execute_result"
    }
   ],
   "source": [
    "is_palindrome(\"A man a plan a canal Panama\")"
   ]
  },
  {
   "cell_type": "code",
   "execution_count": 11,
   "id": "fae43dd1",
   "metadata": {},
   "outputs": [
    {
     "data": {
      "text/plain": [
       "False"
      ]
     },
     "execution_count": 11,
     "metadata": {},
     "output_type": "execute_result"
    }
   ],
   "source": [
    "is_palindrome(\"Hello World\")"
   ]
  },
  {
   "cell_type": "markdown",
   "id": "0c3373f3",
   "metadata": {},
   "source": [
    "Example 5 : Factorial of a number using recursion"
   ]
  },
  {
   "cell_type": "code",
   "execution_count": 12,
   "id": "be9458ae",
   "metadata": {},
   "outputs": [],
   "source": [
    "def factorial(n):\n",
    "    \"\"\"This function returns the factorial of a given number using recursion.\"\"\"\n",
    "    \n",
    "    if n == 0 or n == 1:\n",
    "        return 1\n",
    "    else:\n",
    "        return n * factorial(n-1)"
   ]
  },
  {
   "cell_type": "code",
   "execution_count": 13,
   "id": "ef27adb3",
   "metadata": {},
   "outputs": [
    {
     "data": {
      "text/plain": [
       "120"
      ]
     },
     "execution_count": 13,
     "metadata": {},
     "output_type": "execute_result"
    }
   ],
   "source": [
    "factorial(5)"
   ]
  },
  {
   "cell_type": "markdown",
   "id": "7a447c5d",
   "metadata": {},
   "source": [
    "Example 6 : Read a file and count the frequency of each word"
   ]
  },
  {
   "cell_type": "code",
   "execution_count": 19,
   "id": "18b8b204",
   "metadata": {},
   "outputs": [],
   "source": [
    "def count_word_frequency(file_path):\n",
    "    \"\"\"This function reads a file and counts the frequency of each word.\"\"\"\n",
    "    \n",
    "    word_count = {}\n",
    "    with open(file_path, 'r') as file:\n",
    "        for line in file:\n",
    "            words = line.split()\n",
    "            for word in words:\n",
    "                word = word.lower().strip('.,!?;\"()[]{}')  # Normalize the word\n",
    "                \n",
    "                word_count[word] = word_count.get(word, 0) + 1\n",
    "                    \n",
    "    return word_count"
   ]
  },
  {
   "cell_type": "code",
   "execution_count": 20,
   "id": "787c1d14",
   "metadata": {},
   "outputs": [
    {
     "name": "stdout",
     "output_type": "stream",
     "text": [
      "{'hello': 1, 'pankaj': 1, 'how': 1, 'are': 2, 'you': 3, 'can': 1, 'help': 1, 'me': 1, 'osm': 1}\n"
     ]
    }
   ],
   "source": [
    "file_path = 'sample.txt'  # Ensure this file exists with some text\n",
    "word_frequency = count_word_frequency(file_path)\n",
    "print(word_frequency)"
   ]
  },
  {
   "cell_type": "markdown",
   "id": "81de5418",
   "metadata": {},
   "source": [
    "Example 7 : Valdate email address"
   ]
  },
  {
   "cell_type": "code",
   "execution_count": 21,
   "id": "c115e0fe",
   "metadata": {},
   "outputs": [],
   "source": [
    "import re\n",
    "\n",
    "def is_valid_email(email):\n",
    "    \"\"\"This function validates an email address using regular expressions.\"\"\"\n",
    "    \n",
    "    pattern = r'^[a-zA-Z0-9._%+-]+@[a-zA-Z0-9.-]+\\.[a-zA-Z]{2,}$'\n",
    "    return re.match(pattern, email) is not None"
   ]
  },
  {
   "cell_type": "code",
   "execution_count": 22,
   "id": "611ac7ba",
   "metadata": {},
   "outputs": [
    {
     "data": {
      "text/plain": [
       "True"
      ]
     },
     "execution_count": 22,
     "metadata": {},
     "output_type": "execute_result"
    }
   ],
   "source": [
    "is_valid_email(\"test@example.com\")"
   ]
  },
  {
   "cell_type": "code",
   "execution_count": 23,
   "id": "e778e6b0",
   "metadata": {},
   "outputs": [
    {
     "data": {
      "text/plain": [
       "False"
      ]
     },
     "execution_count": 23,
     "metadata": {},
     "output_type": "execute_result"
    }
   ],
   "source": [
    "is_valid_email(\"invalid-email@.com\")"
   ]
  },
  {
   "cell_type": "code",
   "execution_count": null,
   "id": "c2090c01",
   "metadata": {},
   "outputs": [],
   "source": []
  }
 ],
 "metadata": {
  "kernelspec": {
   "display_name": ".venv",
   "language": "python",
   "name": "python3"
  },
  "language_info": {
   "codemirror_mode": {
    "name": "ipython",
    "version": 3
   },
   "file_extension": ".py",
   "mimetype": "text/x-python",
   "name": "python",
   "nbconvert_exporter": "python",
   "pygments_lexer": "ipython3",
   "version": "3.12.4"
  }
 },
 "nbformat": 4,
 "nbformat_minor": 5
}
