{
 "cells": [
  {
   "cell_type": "markdown",
   "id": "614b2329",
   "metadata": {},
   "source": [
    "# Functions"
   ]
  },
  {
   "cell_type": "code",
   "execution_count": 1,
   "id": "519c3a02",
   "metadata": {},
   "outputs": [],
   "source": [
    "# Functions : functions that perform specific tasks\n",
    "\n",
    "def add(a,b):\n",
    "    return a + b\n",
    "\n",
    "def subtract(a,b):\n",
    "    return a - b\n",
    "\n",
    "def multiply(a,b):\n",
    "    return a * b\n",
    "\n",
    "def divide(a,b):\n",
    "    if b != 0:\n",
    "        return a / b\n",
    "    else:\n",
    "        return \"Division by zero error\"\n",
    "def power(a,b):\n",
    "    return a ** b"
   ]
  },
  {
   "cell_type": "code",
   "execution_count": 2,
   "id": "4aa67eb0",
   "metadata": {},
   "outputs": [],
   "source": [
    "added = add(5, 3)\n",
    "subtracted = subtract(10, 4)\n",
    "multiplied = multiply(4, 7)\n",
    "divided = divide(20, 5)\n",
    "powered = power(2, 3)"
   ]
  },
  {
   "cell_type": "code",
   "execution_count": 3,
   "id": "d93caa59",
   "metadata": {},
   "outputs": [
    {
     "name": "stdout",
     "output_type": "stream",
     "text": [
      "Addition:  8\n",
      "Subtraction:  6\n",
      "Multiplication:  28\n",
      "Division:  4.0\n",
      "Power:  8\n"
     ]
    }
   ],
   "source": [
    "print(\"Addition: \", added)\n",
    "print(\"Subtraction: \", subtracted)\n",
    "print(\"Multiplication: \", multiplied)\n",
    "print(\"Division: \", divided)\n",
    "print(\"Power: \", powered)"
   ]
  },
  {
   "cell_type": "code",
   "execution_count": null,
   "id": "ab2ce02b",
   "metadata": {},
   "outputs": [
    {
     "name": "stdout",
     "output_type": "stream",
     "text": [
      "Hello, Alice!\n",
      "Hello, Pankaj!\n"
     ]
    }
   ],
   "source": [
    "def greet(name=\"Pankaj\"):   # Default parameter\n",
    "    return f\"Hello, {name}!\"\n",
    "\n",
    "print(greet(\"Alice\"))\n",
    "print(greet())"
   ]
  },
  {
   "cell_type": "code",
   "execution_count": 6,
   "id": "693e10b4",
   "metadata": {},
   "outputs": [],
   "source": [
    "# variable length arguments\n",
    "def print_numbers(*args):\n",
    "    for number in args:\n",
    "        print(number)"
   ]
  },
  {
   "cell_type": "code",
   "execution_count": 7,
   "id": "d7415c0f",
   "metadata": {},
   "outputs": [
    {
     "name": "stdout",
     "output_type": "stream",
     "text": [
      "1\n",
      "2\n",
      "3\n",
      "4\n",
      "5\n",
      "Pankaj\n"
     ]
    }
   ],
   "source": [
    "print_numbers(1, 2, 3, 4, 5,\"Pankaj\")"
   ]
  },
  {
   "cell_type": "code",
   "execution_count": null,
   "id": "262a9165",
   "metadata": {},
   "outputs": [],
   "source": [
    "# Keyword Arguments : function that accepts keyword arguments \n",
    "# used to pass a variable number of keyword arguments to a function.\n",
    "\n",
    "def print_details(**kwargs):\n",
    "    for key, value in kwargs.items():\n",
    "        print(f\"{key}: {value}\")"
   ]
  },
  {
   "cell_type": "code",
   "execution_count": 9,
   "id": "8c7a1668",
   "metadata": {},
   "outputs": [
    {
     "name": "stdout",
     "output_type": "stream",
     "text": [
      "name: Alice\n",
      "age: 30\n",
      "city: New York\n"
     ]
    }
   ],
   "source": [
    "print_details(name=\"Alice\", age=30, city=\"New York\")"
   ]
  },
  {
   "cell_type": "code",
   "execution_count": 10,
   "id": "cad9b15b",
   "metadata": {},
   "outputs": [
    {
     "name": "stdout",
     "output_type": "stream",
     "text": [
      "1\n",
      "2\n",
      "3\n",
      "name: Alice\n",
      "age: 30\n"
     ]
    }
   ],
   "source": [
    "def print_fun(*args, **kwargs):\n",
    "    for item in args:\n",
    "        print(item)\n",
    "    for key, value in kwargs.items():\n",
    "        print(f\"{key}: {value}\")\n",
    "        \n",
    "print_fun(1, 2, 3, name=\"Alice\", age=30)"
   ]
  },
  {
   "cell_type": "code",
   "execution_count": 11,
   "id": "09a67453",
   "metadata": {},
   "outputs": [],
   "source": [
    "def is_strong_password(password):\n",
    "    \"\"\"Check if the password is strong.\n",
    "    \n",
    "    A strong password has at least 8 characters, contains both uppercase\n",
    "    and lowercase letters, includes at least one digit, and has at least\n",
    "    one special character.\n",
    "    \n",
    "    Args:\n",
    "        password (str): The password to check.\n",
    "        \n",
    "    Returns:\n",
    "        bool: True if the password is strong, False otherwise.\n",
    "    \"\"\"\n",
    "    if len(password) < 8:\n",
    "        return False\n",
    "    has_upper = any(c.isupper() for c in password)\n",
    "    has_lower = any(c.islower() for c in password)\n",
    "    has_digit = any(c.isdigit() for c in password)\n",
    "    has_special = any(not c.isalnum() for c in password)\n",
    "    \n",
    "    return has_upper and has_lower and has_digit and has_special"
   ]
  },
  {
   "cell_type": "code",
   "execution_count": 12,
   "id": "f89f2658",
   "metadata": {},
   "outputs": [
    {
     "data": {
      "text/plain": [
       "True"
      ]
     },
     "execution_count": 12,
     "metadata": {},
     "output_type": "execute_result"
    }
   ],
   "source": [
    "is_strong_password(\"Password123!\")  # True"
   ]
  },
  {
   "cell_type": "code",
   "execution_count": null,
   "id": "d2e518f2",
   "metadata": {},
   "outputs": [],
   "source": []
  }
 ],
 "metadata": {
  "kernelspec": {
   "display_name": ".venv",
   "language": "python",
   "name": "python3"
  },
  "language_info": {
   "codemirror_mode": {
    "name": "ipython",
    "version": 3
   },
   "file_extension": ".py",
   "mimetype": "text/x-python",
   "name": "python",
   "nbconvert_exporter": "python",
   "pygments_lexer": "ipython3",
   "version": "3.12.4"
  }
 },
 "nbformat": 4,
 "nbformat_minor": 5
}
