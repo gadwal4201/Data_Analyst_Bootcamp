{
 "cells": [
  {
   "cell_type": "markdown",
   "id": "fc053111",
   "metadata": {},
   "source": [
    "# Lambda Function"
   ]
  },
  {
   "cell_type": "code",
   "execution_count": 1,
   "id": "deacc9a2",
   "metadata": {},
   "outputs": [
    {
     "data": {
      "text/plain": [
       "<function __main__.<lambda>(arguments)>"
      ]
     },
     "execution_count": 1,
     "metadata": {},
     "output_type": "execute_result"
    }
   ],
   "source": [
    "# syntax for lambda functions\n",
    "lambda arguments: expression"
   ]
  },
  {
   "cell_type": "code",
   "execution_count": 2,
   "id": "b78cb974",
   "metadata": {},
   "outputs": [],
   "source": [
    "def addition(x, y):\n",
    "    \"\"\"This function returns the sum of two numbers.\"\"\"\n",
    "    return x + y"
   ]
  },
  {
   "cell_type": "code",
   "execution_count": 3,
   "id": "c2ca94db",
   "metadata": {},
   "outputs": [
    {
     "data": {
      "text/plain": [
       "8"
      ]
     },
     "execution_count": 3,
     "metadata": {},
     "output_type": "execute_result"
    }
   ],
   "source": [
    "addition(5, 3)"
   ]
  },
  {
   "cell_type": "code",
   "execution_count": 5,
   "id": "cb5661f0",
   "metadata": {},
   "outputs": [],
   "source": [
    "addition = lambda a, b: a + b"
   ]
  },
  {
   "cell_type": "code",
   "execution_count": null,
   "id": "ca41a96d",
   "metadata": {},
   "outputs": [
    {
     "data": {
      "text/plain": [
       "function"
      ]
     },
     "execution_count": 8,
     "metadata": {},
     "output_type": "execute_result"
    }
   ],
   "source": [
    "type(addition)  # <class 'function'>"
   ]
  },
  {
   "cell_type": "code",
   "execution_count": 9,
   "id": "872aa4bc",
   "metadata": {},
   "outputs": [
    {
     "name": "stdout",
     "output_type": "stream",
     "text": [
      "True\n",
      "False\n"
     ]
    }
   ],
   "source": [
    "even1 = lambda num: num % 2 == 0\n",
    "print(even1(4))  # True\n",
    "print(even1(5))  # False"
   ]
  },
  {
   "cell_type": "code",
   "execution_count": 13,
   "id": "bd07fc20",
   "metadata": {},
   "outputs": [
    {
     "name": "stdout",
     "output_type": "stream",
     "text": [
      "9\n",
      "9\n"
     ]
    }
   ],
   "source": [
    "def addition(x,y,z):\n",
    "    return x + y + z\n",
    "\n",
    "add = lambda x,y,z: x + y + z\n",
    "print(add(2,3,4))\n",
    "print(addition(2,3,4))"
   ]
  },
  {
   "cell_type": "code",
   "execution_count": 14,
   "id": "893902b2",
   "metadata": {},
   "outputs": [
    {
     "data": {
      "text/plain": [
       "[1, 4, 9, 16, 25]"
      ]
     },
     "execution_count": 14,
     "metadata": {},
     "output_type": "execute_result"
    }
   ],
   "source": [
    "# Map function with lambda : It applies a function to all the items in an input list (or any iterable).\n",
    "\n",
    "numbers = [1, 2, 3, 4, 5]\n",
    "list(map(lambda x:x**2, numbers))"
   ]
  },
  {
   "cell_type": "code",
   "execution_count": null,
   "id": "e2b2f936",
   "metadata": {},
   "outputs": [],
   "source": []
  }
 ],
 "metadata": {
  "kernelspec": {
   "display_name": ".venv",
   "language": "python",
   "name": "python3"
  },
  "language_info": {
   "codemirror_mode": {
    "name": "ipython",
    "version": 3
   },
   "file_extension": ".py",
   "mimetype": "text/x-python",
   "name": "python",
   "nbconvert_exporter": "python",
   "pygments_lexer": "ipython3",
   "version": "3.12.4"
  }
 },
 "nbformat": 4,
 "nbformat_minor": 5
}
