{
 "cells": [
  {
   "cell_type": "markdown",
   "id": "7bbeca29",
   "metadata": {},
   "source": [
    "# Syntax and Semantics"
   ]
  },
  {
   "cell_type": "code",
   "execution_count": 1,
   "id": "1aa72594",
   "metadata": {},
   "outputs": [],
   "source": [
    "# Syntax refers to the set of rules that define the combinations of symbols that are considered to be correctly structured programs in a programming language.\n",
    "# In simple terms, syntax is about the arrangement of words and symbols to create valid statements and expressions in code."
   ]
  },
  {
   "cell_type": "code",
   "execution_count": 2,
   "id": "43eaab66",
   "metadata": {},
   "outputs": [
    {
     "name": "stdout",
     "output_type": "stream",
     "text": [
      "5\n",
      "10\n"
     ]
    }
   ],
   "source": [
    "# Single line comment\n",
    "'''Multi line comment'''\n",
    "\n",
    "# Case Sensitivity - Python is case-sensitive\n",
    "Variable = 5\n",
    "variable = 10\n",
    "print(Variable)  # Outputs: 5\n",
    "print(variable)  # Outputs: 10"
   ]
  },
  {
   "cell_type": "code",
   "execution_count": 3,
   "id": "610ddab8",
   "metadata": {},
   "outputs": [
    {
     "name": "stdout",
     "output_type": "stream",
     "text": [
      "You are an adult.\n"
     ]
    }
   ],
   "source": [
    "# Indentation - Python uses indentation to define blocks of code\n",
    "\n",
    "age = 20\n",
    "if age >= 18:\n",
    "    print(\"You are an adult.\")\n"
   ]
  },
  {
   "cell_type": "code",
   "execution_count": 5,
   "id": "95ba97e9",
   "metadata": {},
   "outputs": [
    {
     "name": "stdout",
     "output_type": "stream",
     "text": [
      "21\n"
     ]
    }
   ],
   "source": [
    "# Line Continuation - Use backslash (\\) to continue a statement on the next line\n",
    "total = 1 + 2 + 3 + \\\n",
    "    4 + 5 + 6\n",
    "print(total)  # Outputs: 21"
   ]
  },
  {
   "cell_type": "code",
   "execution_count": 6,
   "id": "a442a25a",
   "metadata": {},
   "outputs": [
    {
     "name": "stdout",
     "output_type": "stream",
     "text": [
      "15\n"
     ]
    }
   ],
   "source": [
    "# Multiple Statements on a Single Line - Use semicolon (;) to separate multiple statements on a single line\n",
    "x = 5; y = 10; print(x + y)  # Outputs:"
   ]
  },
  {
   "cell_type": "code",
   "execution_count": 7,
   "id": "e4cc6fe7",
   "metadata": {},
   "outputs": [
    {
     "name": "stdout",
     "output_type": "stream",
     "text": [
      "30\n"
     ]
    }
   ],
   "source": [
    "# Understand Semantics - Semantics refers to the meaning of the code, i.e., what the code does when it is executed.\n",
    "# While syntax is about the structure of the code, semantics is about its behavior and effect.\n",
    "\n",
    "# Example of Semantics\n",
    "a = 10\n",
    "b = 20\n",
    "sum = a + b  # The semantics here is that we are adding the values of a and b and storing the result in sum\n",
    "print(sum)  # Outputs: 30"
   ]
  },
  {
   "cell_type": "code",
   "execution_count": 8,
   "id": "501564d4",
   "metadata": {},
   "outputs": [
    {
     "name": "stdout",
     "output_type": "stream",
     "text": [
      "<class 'int'> <class 'float'> <class 'str'>\n"
     ]
    }
   ],
   "source": [
    "# Type Inference - Python is dynamically typed, meaning you don't need to declare variable types explicitly.\n",
    "x = 10        # x is an integer\n",
    "y = 3.14     # y is a float\n",
    "z = \"Hello\"  # z is a string\n",
    "print(type(x), type(y), type(z))  # Outputs: <class 'int'> <class 'float'> <class 'str'>"
   ]
  },
  {
   "cell_type": "code",
   "execution_count": 11,
   "id": "8ab150b2",
   "metadata": {},
   "outputs": [
    {
     "ename": "NameError",
     "evalue": "name 'q' is not defined",
     "output_type": "error",
     "traceback": [
      "\u001b[31m---------------------------------------------------------------------------\u001b[39m",
      "\u001b[31mNameError\u001b[39m                                 Traceback (most recent call last)",
      "\u001b[36mCell\u001b[39m\u001b[36m \u001b[39m\u001b[32mIn[11]\u001b[39m\u001b[32m, line 1\u001b[39m\n\u001b[32m----> \u001b[39m\u001b[32m1\u001b[39m p=\u001b[43mq\u001b[49m\n\u001b[32m      2\u001b[39m \u001b[38;5;28mprint\u001b[39m(p) \u001b[38;5;66;03m# name error\u001b[39;00m\n",
      "\u001b[31mNameError\u001b[39m: name 'q' is not defined"
     ]
    }
   ],
   "source": [
    "p=q\n",
    "print(p) # name error"
   ]
  },
  {
   "cell_type": "code",
   "execution_count": 12,
   "id": "e447dc22",
   "metadata": {},
   "outputs": [
    {
     "name": "stdout",
     "output_type": "stream",
     "text": [
      "Hello\n",
      "!\n",
      "Hi\n"
     ]
    }
   ],
   "source": [
    "if True:\n",
    "    print(\"Hello\")\n",
    "    if False:\n",
    "        print(\"World\")\n",
    "    print(\"!\")\n",
    "print(\"Hi\") "
   ]
  },
  {
   "cell_type": "code",
   "execution_count": null,
   "id": "f97ba1ab",
   "metadata": {},
   "outputs": [],
   "source": []
  }
 ],
 "metadata": {
  "kernelspec": {
   "display_name": ".venv",
   "language": "python",
   "name": "python3"
  },
  "language_info": {
   "codemirror_mode": {
    "name": "ipython",
    "version": 3
   },
   "file_extension": ".py",
   "mimetype": "text/x-python",
   "name": "python",
   "nbconvert_exporter": "python",
   "pygments_lexer": "ipython3",
   "version": "3.12.4"
  }
 },
 "nbformat": 4,
 "nbformat_minor": 5
}
