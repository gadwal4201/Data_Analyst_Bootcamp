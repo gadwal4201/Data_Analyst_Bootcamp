{
 "cells": [
  {
   "cell_type": "markdown",
   "id": "4d749570",
   "metadata": {},
   "source": [
    "# Variables"
   ]
  },
  {
   "cell_type": "code",
   "execution_count": 1,
   "id": "1ad73507",
   "metadata": {},
   "outputs": [],
   "source": [
    "# Variables are fundamental in programming, allowing you to store and manipulate data.\n",
    "# In Python, variables are created by simply assigning a value to a name using the equals sign (=).\n",
    "# Python is dynamically typed, so you don't need to declare the type of a variable explicitly.\n",
    "\n",
    "a=10        # a is an integer\n",
    "b=3.14     # b is a float\n",
    "c=\"Hello\"  # c is a string"
   ]
  },
  {
   "cell_type": "code",
   "execution_count": 2,
   "id": "a0d40946",
   "metadata": {},
   "outputs": [
    {
     "name": "stdout",
     "output_type": "stream",
     "text": [
      "10\n",
      "3.14\n",
      "Hello\n"
     ]
    }
   ],
   "source": [
    "print(a)\n",
    "print(b)    \n",
    "print(c)"
   ]
  },
  {
   "cell_type": "code",
   "execution_count": 3,
   "id": "baf6f5f7",
   "metadata": {},
   "outputs": [],
   "source": [
    "# Naming Conventions - Use descriptive names, avoid reserved keywords, and follow consistent casing (e.g., snake_case).\n",
    "\n",
    "first_name = \"John\"  # Descriptive name\n",
    "age = 30             # Descriptive name"
   ]
  },
  {
   "cell_type": "code",
   "execution_count": 4,
   "id": "35807725",
   "metadata": {},
   "outputs": [
    {
     "name": "stdout",
     "output_type": "stream",
     "text": [
      "<class 'bool'> <class 'float'> <class 'str'> <class 'int'>\n"
     ]
    }
   ],
   "source": [
    "# Understandi variable types - Python has several built-in data types, including:\n",
    "# Integers (int): Whole numbers, e.g., 1, -5, 100\n",
    "# Floating-point numbers (float): Numbers with decimal points, e.g., 3.14, -0.001\n",
    "# Strings (str): Text enclosed in quotes, e.g., \"Hello\", 'Python'   \n",
    "# Booleans (bool): True or False values, e.g., True, False\n",
    "is_student = True  # Boolean value\n",
    "height = 5.9      # Float value\n",
    "name = \"Alice\"    # String value\n",
    "score = 95        # Integer value\n",
    "print(type(is_student), type(height), type(name), type(score))  # Outputs: <class 'bool'> <class 'float'> <class 'str'> <class 'int'>"
   ]
  },
  {
   "cell_type": "code",
   "execution_count": 5,
   "id": "2def5968",
   "metadata": {},
   "outputs": [
    {
     "name": "stdout",
     "output_type": "stream",
     "text": [
      "<class 'str'> <class 'int'> <class 'float'>\n"
     ]
    }
   ],
   "source": [
    "# type checking and conversion - Use the type() function to check a variable's type and functions like int(), float(), str() to convert types.\n",
    "num_str = \"100\"\n",
    "num_int = int(num_str)  # Convert string to integer\n",
    "num_float = float(num_str)  # Convert string to float\n",
    "\n",
    "print(type(num_str), type(num_int), type(num_float))  # Outputs: <class 'str'> <class 'int'> <class 'float'>"
   ]
  },
  {
   "cell_type": "code",
   "execution_count": 6,
   "id": "55efc0ff",
   "metadata": {},
   "outputs": [
    {
     "name": "stdout",
     "output_type": "stream",
     "text": [
      "<class 'str'>\n"
     ]
    },
    {
     "ename": "ValueError",
     "evalue": "invalid literal for int() with base 10: 'Alice'",
     "output_type": "error",
     "traceback": [
      "\u001b[31m---------------------------------------------------------------------------\u001b[39m",
      "\u001b[31mValueError\u001b[39m                                Traceback (most recent call last)",
      "\u001b[36mCell\u001b[39m\u001b[36m \u001b[39m\u001b[32mIn[6]\u001b[39m\u001b[32m, line 4\u001b[39m\n\u001b[32m      1\u001b[39m name = \u001b[33m\"\u001b[39m\u001b[33mAlice\u001b[39m\u001b[33m\"\u001b[39m\n\u001b[32m      2\u001b[39m \u001b[38;5;28mprint\u001b[39m(\u001b[38;5;28mtype\u001b[39m(name))  \u001b[38;5;66;03m# Outputs: <class 'str'>\u001b[39;00m\n\u001b[32m----> \u001b[39m\u001b[32m4\u001b[39m \u001b[38;5;28;43mint\u001b[39;49m\u001b[43m(\u001b[49m\u001b[43mname\u001b[49m\u001b[43m)\u001b[49m  \u001b[38;5;66;03m# This will raise a ValueError because \"Alice\" cannot be converted to an integer\u001b[39;00m\n",
      "\u001b[31mValueError\u001b[39m: invalid literal for int() with base 10: 'Alice'"
     ]
    }
   ],
   "source": [
    "name = \"Alice\"\n",
    "print(type(name))  # Outputs: <class 'str'>\n",
    "\n",
    "int(name)  # This will raise a ValueError because \"Alice\" cannot be converted to an integer\n"
   ]
  },
  {
   "cell_type": "code",
   "execution_count": 7,
   "id": "3cd20c43",
   "metadata": {},
   "outputs": [
    {
     "name": "stdout",
     "output_type": "stream",
     "text": [
      "<class 'float'>\n",
      "5\n"
     ]
    }
   ],
   "source": [
    "h = 5.11\n",
    "print(type(h))  # Outputs: <class 'float'>\n",
    "\n",
    "print(int(h))  # Converts float to integer, outputs: 5"
   ]
  },
  {
   "cell_type": "code",
   "execution_count": 8,
   "id": "7ebd84a5",
   "metadata": {},
   "outputs": [
    {
     "name": "stdout",
     "output_type": "stream",
     "text": [
      "3.14\n"
     ]
    }
   ],
   "source": [
    "# Dynamic typing allows you to reassign variables to different types, but be cautious as it can lead to unexpected behavior.\n",
    "x = 10        # x is an integer\n",
    "\n",
    "# Python allows the type of x to change dynamically\n",
    "x = \"Ten\"     # Now x is a string\n",
    "\n",
    "x = 3.14      # Now x is a float\n",
    "\n",
    "print(x)      # Outputs: 3.14"
   ]
  },
  {
   "cell_type": "code",
   "execution_count": 9,
   "id": "f6696336",
   "metadata": {},
   "outputs": [
    {
     "name": "stdout",
     "output_type": "stream",
     "text": [
      "You are 10 years old.\n"
     ]
    }
   ],
   "source": [
    "age = input(\"Enter your age: \")  # input() returns a string\n",
    "age = int(age)  # Convert the input string to an integer\n",
    "print(f\"You are {age} years old.\")"
   ]
  },
  {
   "cell_type": "code",
   "execution_count": 10,
   "id": "b17c6ff4",
   "metadata": {},
   "outputs": [
    {
     "name": "stdout",
     "output_type": "stream",
     "text": [
      "You are 5.0 feet tall.\n"
     ]
    }
   ],
   "source": [
    "height = float(input(\"Enter your height in feet: \"))  # Convert input to float\n",
    "print(f\"You are {height} feet tall.\")"
   ]
  },
  {
   "cell_type": "code",
   "execution_count": 11,
   "id": "19822bef",
   "metadata": {},
   "outputs": [
    {
     "name": "stdout",
     "output_type": "stream",
     "text": [
      "Sum: 30.0\n",
      "Difference: -10.0\n",
      "Product: 200.0\n",
      "Quotient: 0.5\n"
     ]
    }
   ],
   "source": [
    "# Simple Calculator\n",
    "\n",
    "num1 = float(input(\"Enter first number: \"))  # Convert input to float\n",
    "num2 = float(input(\"Enter second number: \"))  # Convert input to float\n",
    "\n",
    "sum_result = num1 + num2\n",
    "diff_result = num1 - num2\n",
    "prod_result = num1 * num2\n",
    "quot_result = num1 / num2 if num2 != 0 else \"Undefined (division by zero)\"\n",
    "\n",
    "print(f\"Sum: {sum_result}\")\n",
    "print(f\"Difference: {diff_result}\")\n",
    "print(f\"Product: {prod_result}\")\n",
    "print(f\"Quotient: {quot_result}\")"
   ]
  },
  {
   "cell_type": "code",
   "execution_count": 12,
   "id": "7f7643c7",
   "metadata": {},
   "outputs": [
    {
     "name": "stdout",
     "output_type": "stream",
     "text": [
      "30.0 -10.0 200.0 0.5\n"
     ]
    }
   ],
   "source": [
    "print(sum_result, diff_result, prod_result, quot_result)"
   ]
  },
  {
   "cell_type": "code",
   "execution_count": null,
   "id": "6365822f",
   "metadata": {},
   "outputs": [],
   "source": []
  }
 ],
 "metadata": {
  "kernelspec": {
   "display_name": ".venv",
   "language": "python",
   "name": "python3"
  },
  "language_info": {
   "codemirror_mode": {
    "name": "ipython",
    "version": 3
   },
   "file_extension": ".py",
   "mimetype": "text/x-python",
   "name": "python",
   "nbconvert_exporter": "python",
   "pygments_lexer": "ipython3",
   "version": "3.12.4"
  }
 },
 "nbformat": 4,
 "nbformat_minor": 5
}
