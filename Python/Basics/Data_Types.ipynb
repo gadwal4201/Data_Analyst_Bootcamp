{
 "cells": [
  {
   "cell_type": "markdown",
   "id": "3c661a06",
   "metadata": {},
   "source": [
    "# DataTypes"
   ]
  },
  {
   "cell_type": "code",
   "execution_count": 1,
   "id": "9d66d619",
   "metadata": {},
   "outputs": [
    {
     "name": "stdout",
     "output_type": "stream",
     "text": [
      "<class 'int'>\n"
     ]
    }
   ],
   "source": [
    "# Data types are a classification that specifies which type of value a variable has and what type of operations can be performed on it.\n",
    "# Common data types in Python include:\n",
    "# 1. Integers (int): Whole numbers, e.g., 5, -10\n",
    "# 2. Floating-point numbers (float): Numbers with decimal points, e.g., 3.14, -0.001\n",
    "# 3. Strings (str): Sequences of characters, e.g., \"Hello, World!\"\n",
    "# 4. Booleans (bool): Represents True or False values\n",
    "\n",
    "# Variables are used to store data values. In Python, you can create a variable by simply assigning a value to it using the equals sign (=).\n",
    "# Example:\n",
    "x = 5\n",
    "y = 10.5\n",
    "name = \"Alice\"\n",
    "is_student = True   \n",
    "# You can check the type of a variable using the type() function.\n",
    "print(type(x))          # Outputs: <class 'int'>"
   ]
  },
  {
   "cell_type": "code",
   "execution_count": null,
   "id": "cedc1993",
   "metadata": {},
   "outputs": [
    {
     "data": {
      "text/plain": [
       "False"
      ]
     },
     "execution_count": 2,
     "metadata": {},
     "output_type": "execute_result"
    }
   ],
   "source": [
    "bool() # bydefaults to False for empty values (0, \"\", [], {}, etc.) and True for non-empty values."
   ]
  },
  {
   "cell_type": "code",
   "execution_count": 3,
   "id": "9f3a6da6",
   "metadata": {},
   "outputs": [
    {
     "ename": "TypeError",
     "evalue": "can only concatenate str (not \"int\") to str",
     "output_type": "error",
     "traceback": [
      "\u001b[31m---------------------------------------------------------------------------\u001b[39m",
      "\u001b[31mTypeError\u001b[39m                                 Traceback (most recent call last)",
      "\u001b[36mCell\u001b[39m\u001b[36m \u001b[39m\u001b[32mIn[3]\u001b[39m\u001b[32m, line 3\u001b[39m\n\u001b[32m      1\u001b[39m \u001b[38;5;66;03m# common errors\u001b[39;00m\n\u001b[32m----> \u001b[39m\u001b[32m3\u001b[39m resulte = \u001b[33;43m\"\u001b[39;49m\u001b[33;43m5\u001b[39;49m\u001b[33;43m\"\u001b[39;49m\u001b[43m \u001b[49m\u001b[43m+\u001b[49m\u001b[43m \u001b[49m\u001b[32;43m10\u001b[39;49m  \u001b[38;5;66;03m# This will raise a TypeError because you cannot add a string and an integer directly\u001b[39;00m\n",
      "\u001b[31mTypeError\u001b[39m: can only concatenate str (not \"int\") to str"
     ]
    }
   ],
   "source": [
    "# common errors\n",
    "\n",
    "resulte = \"5\" + 10  # This will raise a TypeError because you cannot add a string and an integer directly"
   ]
  },
  {
   "cell_type": "code",
   "execution_count": 4,
   "id": "147693e2",
   "metadata": {},
   "outputs": [
    {
     "name": "stdout",
     "output_type": "stream",
     "text": [
      "15\n"
     ]
    }
   ],
   "source": [
    "result = int(\"5\") + 10  # Correct way to add a string and an integer by converting the string to an integer\n",
    "print(result)  # Outputs: 15"
   ]
  },
  {
   "cell_type": "code",
   "execution_count": 5,
   "id": "37bb4ea1",
   "metadata": {},
   "outputs": [
    {
     "name": "stdout",
     "output_type": "stream",
     "text": [
      "HELLO\n",
      "hello\n",
      "Hi\n",
      "['Hello']\n",
      "Hello\n"
     ]
    }
   ],
   "source": [
    "str = \"Hello\"\n",
    "\n",
    "print(str.upper())  # Converts the string to uppercase\n",
    "print(str.lower())  # Converts the string to lowercase\n",
    "print(str.replace(\"Hello\", \"Hi\"))  # Replaces \"Hello\" with \"Hi\"\n",
    "print(str.split(\", \"))  # Splits the string into a list based on the delimiter \", \"\n",
    "print(str)"
   ]
  },
  {
   "cell_type": "code",
   "execution_count": null,
   "id": "0b8b6449",
   "metadata": {},
   "outputs": [],
   "source": []
  }
 ],
 "metadata": {
  "kernelspec": {
   "display_name": ".venv",
   "language": "python",
   "name": "python3"
  },
  "language_info": {
   "codemirror_mode": {
    "name": "ipython",
    "version": 3
   },
   "file_extension": ".py",
   "mimetype": "text/x-python",
   "name": "python",
   "nbconvert_exporter": "python",
   "pygments_lexer": "ipython3",
   "version": "3.12.4"
  }
 },
 "nbformat": 4,
 "nbformat_minor": 5
}
