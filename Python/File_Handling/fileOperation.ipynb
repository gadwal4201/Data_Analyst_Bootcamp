{
 "cells": [
  {
   "cell_type": "markdown",
   "id": "cc0f0ed7",
   "metadata": {},
   "source": [
    "# File Operation"
   ]
  },
  {
   "cell_type": "code",
   "execution_count": 1,
   "id": "85ff5d3a",
   "metadata": {},
   "outputs": [
    {
     "name": "stdout",
     "output_type": "stream",
     "text": [
      "hello pankaj where atre you\n",
      "i m waiting here\n",
      "come fast\n",
      "\n"
     ]
    }
   ],
   "source": [
    "# Read a whole file\n",
    "\n",
    "with open('example.txt', 'r') as file:\n",
    "    content = file.read()\n",
    "    print(content)"
   ]
  },
  {
   "cell_type": "code",
   "execution_count": null,
   "id": "87a67ba0",
   "metadata": {},
   "outputs": [
    {
     "name": "stdout",
     "output_type": "stream",
     "text": [
      "hello pankaj where atre you\n",
      "i m waiting here\n",
      "come fast\n"
     ]
    }
   ],
   "source": [
    "# Read a file line by line\n",
    "with open('example.txt', 'r') as file:\n",
    "    for line in file:\n",
    "        print(line.strip()) # strip() removes leading/trailing whitespace"
   ]
  },
  {
   "cell_type": "code",
   "execution_count": 4,
   "id": "c0ad4139",
   "metadata": {},
   "outputs": [],
   "source": [
    "# Writing a file\n",
    "with open('output.txt', 'w') as file:\n",
    "    file.write(\"This is a new line.\\n\")\n",
    "    file.write(\"Writing to a file in Python is easy!\\n\")\n",
    "    \n"
   ]
  },
  {
   "cell_type": "code",
   "execution_count": 5,
   "id": "b592ecd6",
   "metadata": {},
   "outputs": [],
   "source": [
    "# Write a file without overwriting existing content\n",
    "with open('output.txt', 'a') as file:\n",
    "    file.write(\"Appending a new line.\\n\")\n",
    "    file.write(\"This line is added to the existing content.\\n\")"
   ]
  },
  {
   "cell_type": "code",
   "execution_count": null,
   "id": "491a7ff7",
   "metadata": {},
   "outputs": [],
   "source": [
    "# writing a list of lines to a file\n",
    "lines = [\"First line\\n\", \"Second line\\n\", \"Third line\\n\"]\n",
    "with open('output.txt', 'a') as file:\n",
    "    file.writelines(lines)\n"
   ]
  },
  {
   "cell_type": "code",
   "execution_count": 6,
   "id": "b8bec3b9",
   "metadata": {},
   "outputs": [],
   "source": [
    "# Binary file operations\n",
    "data = b'\\x00\\x01\\x02\\x03\\x04\\x05'\n",
    "with open('output.bin', 'wb') as file:\n",
    "    file.write(data)\n"
   ]
  },
  {
   "cell_type": "code",
   "execution_count": 8,
   "id": "a4c3f941",
   "metadata": {},
   "outputs": [],
   "source": [
    "# Read content from source file and write to destination file\n",
    "with open('example.txt', 'r') as src_file:\n",
    "    content = src_file.read()\n",
    "with open('destination.txt', 'w') as dest_file:\n",
    "    dest_file.write(content)"
   ]
  },
  {
   "cell_type": "code",
   "execution_count": 10,
   "id": "d1ce9588",
   "metadata": {},
   "outputs": [
    {
     "name": "stdout",
     "output_type": "stream",
     "text": [
      "This file is opened in w+ mode.\n",
      "You can read and write to this file.\n",
      "\n"
     ]
    }
   ],
   "source": [
    "# The w+ mode opens a file for both writing and reading. If the file already exists, it truncates the file to zero length. If the file does not exist, it creates a new file for reading and writing.   \n",
    "with open('example.txt', 'w+') as file:\n",
    "    file.write(\"This file is opened in w+ mode.\\n\")\n",
    "    file.write(\"You can read and write to this file.\\n\")\n",
    "    file.seek(0)  # Move the cursor to the beginning of the file\n",
    "    content = file.read()\n",
    "    print(content)"
   ]
  },
  {
   "cell_type": "code",
   "execution_count": null,
   "id": "c894cf17",
   "metadata": {},
   "outputs": [],
   "source": []
  }
 ],
 "metadata": {
  "kernelspec": {
   "display_name": ".venv",
   "language": "python",
   "name": "python3"
  },
  "language_info": {
   "codemirror_mode": {
    "name": "ipython",
    "version": 3
   },
   "file_extension": ".py",
   "mimetype": "text/x-python",
   "name": "python",
   "nbconvert_exporter": "python",
   "pygments_lexer": "ipython3",
   "version": "3.12.4"
  }
 },
 "nbformat": 4,
 "nbformat_minor": 5
}
