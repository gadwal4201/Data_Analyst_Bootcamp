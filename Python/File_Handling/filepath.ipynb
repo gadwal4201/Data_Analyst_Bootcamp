{
 "cells": [
  {
   "cell_type": "markdown",
   "id": "d1aaf462",
   "metadata": {},
   "source": [
    "# File Path"
   ]
  },
  {
   "cell_type": "code",
   "execution_count": 1,
   "id": "3bf8a16f",
   "metadata": {},
   "outputs": [
    {
     "name": "stdout",
     "output_type": "stream",
     "text": [
      "Current Working Directory: d:\\Data_Analyst_Bootcamp\\Python\\File_Handling\n"
     ]
    }
   ],
   "source": [
    "import os\n",
    "cwd = os.getcwd()\n",
    "print(\"Current Working Directory:\", cwd)"
   ]
  },
  {
   "cell_type": "code",
   "execution_count": 2,
   "id": "6c3ca070",
   "metadata": {},
   "outputs": [
    {
     "ename": "FileExistsError",
     "evalue": "[WinError 183] Cannot create a file when that file already exists: 'new_folder'",
     "output_type": "error",
     "traceback": [
      "\u001b[31m---------------------------------------------------------------------------\u001b[39m",
      "\u001b[31mFileExistsError\u001b[39m                           Traceback (most recent call last)",
      "\u001b[36mCell\u001b[39m\u001b[36m \u001b[39m\u001b[32mIn[2]\u001b[39m\u001b[32m, line 3\u001b[39m\n\u001b[32m      1\u001b[39m \u001b[38;5;66;03m# Create a new directory\u001b[39;00m\n\u001b[32m      2\u001b[39m new_directory = \u001b[33m'\u001b[39m\u001b[33mnew_folder\u001b[39m\u001b[33m'\u001b[39m\n\u001b[32m----> \u001b[39m\u001b[32m3\u001b[39m \u001b[43mos\u001b[49m\u001b[43m.\u001b[49m\u001b[43mmkdir\u001b[49m\u001b[43m(\u001b[49m\u001b[43mnew_directory\u001b[49m\u001b[43m)\u001b[49m\n\u001b[32m      4\u001b[39m \u001b[38;5;28mprint\u001b[39m(\u001b[33mf\u001b[39m\u001b[33m\"\u001b[39m\u001b[33mDirectory \u001b[39m\u001b[33m'\u001b[39m\u001b[38;5;132;01m{\u001b[39;00mnew_directory\u001b[38;5;132;01m}\u001b[39;00m\u001b[33m'\u001b[39m\u001b[33m created.\u001b[39m\u001b[33m\"\u001b[39m)\n",
      "\u001b[31mFileExistsError\u001b[39m: [WinError 183] Cannot create a file when that file already exists: 'new_folder'"
     ]
    }
   ],
   "source": [
    "# Create a new directory\n",
    "new_directory = 'new_folder'\n",
    "os.mkdir(new_directory)\n",
    "print(f\"Directory '{new_directory}' created.\")"
   ]
  },
  {
   "cell_type": "code",
   "execution_count": null,
   "id": "34a1c7a6",
   "metadata": {},
   "outputs": [
    {
     "name": "stdout",
     "output_type": "stream",
     "text": [
      "['destination.txt', 'example.txt', 'fileOperation.ipynb', 'filepath.ipynb', 'new_folder', 'output.bin', 'output.txt']\n",
      "['destination.txt', 'example.txt', 'fileOperation.ipynb', 'filepath.ipynb', 'new_folder', 'output.bin', 'output.txt']\n"
     ]
    }
   ],
   "source": [
    "# listing files and directories in the current directory\n",
    "\n",
    "items1= os.listdir(cwd)\n",
    "items2 = os.listdir('.')\n",
    "\n",
    "print(items1)\n",
    "print(items1)\n"
   ]
  },
  {
   "cell_type": "code",
   "execution_count": 3,
   "id": "63d8f120",
   "metadata": {},
   "outputs": [
    {
     "name": "stdout",
     "output_type": "stream",
     "text": [
      "Full Path: d:\\Data_Analyst_Bootcamp\\Python\\File_Handling\\folder\\file.txt\n"
     ]
    }
   ],
   "source": [
    "# Joining paths\n",
    "\n",
    "dir_name = 'folder'\n",
    "file_name = 'file.txt'\n",
    "full_path = os.path.join(os.getcwd(), dir_name, file_name)\n",
    "print(\"Full Path:\", full_path)"
   ]
  },
  {
   "cell_type": "code",
   "execution_count": 4,
   "id": "07ac2a99",
   "metadata": {},
   "outputs": [
    {
     "name": "stdout",
     "output_type": "stream",
     "text": [
      "The path 'example.txt' exists.\n"
     ]
    }
   ],
   "source": [
    "path = 'example.txt'\n",
    "if os.path.exists(path):\n",
    "    print(f\"The path '{path}' exists.\")\n",
    "else:\n",
    "    print(f\"The path '{path}' does not exist.\")"
   ]
  },
  {
   "cell_type": "code",
   "execution_count": 5,
   "id": "f3feda16",
   "metadata": {},
   "outputs": [
    {
     "name": "stdout",
     "output_type": "stream",
     "text": [
      "'example.txt' is a file.\n"
     ]
    }
   ],
   "source": [
    "if os.path.isfile(path):\n",
    "    print(f\"'{path}' is a file.\")\n",
    "elif os.path.isdir(path):\n",
    "    print(f\"'{path}' is a directory.\")\n",
    "else:\n",
    "    print(f\"'{path}' is neither a file nor a directory.\")"
   ]
  },
  {
   "cell_type": "code",
   "execution_count": 6,
   "id": "a0ef28b4",
   "metadata": {},
   "outputs": [
    {
     "name": "stdout",
     "output_type": "stream",
     "text": [
      "Absolute Path: d:\\Data_Analyst_Bootcamp\\Python\\File_Handling\\example.txt\n"
     ]
    }
   ],
   "source": [
    "# Getting the absolute path\n",
    "\n",
    "relative_path = 'example.txt'\n",
    "absolute_path = os.path.abspath(relative_path)\n",
    "print(\"Absolute Path:\", absolute_path)\n"
   ]
  },
  {
   "cell_type": "code",
   "execution_count": null,
   "id": "9f54eb18",
   "metadata": {},
   "outputs": [],
   "source": []
  }
 ],
 "metadata": {
  "kernelspec": {
   "display_name": ".venv",
   "language": "python",
   "name": "python3"
  },
  "language_info": {
   "codemirror_mode": {
    "name": "ipython",
    "version": 3
   },
   "file_extension": ".py",
   "mimetype": "text/x-python",
   "name": "python",
   "nbconvert_exporter": "python",
   "pygments_lexer": "ipython3",
   "version": "3.12.4"
  }
 },
 "nbformat": 4,
 "nbformat_minor": 5
}
