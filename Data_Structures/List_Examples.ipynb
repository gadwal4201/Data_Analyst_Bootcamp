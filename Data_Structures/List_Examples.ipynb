{
 "cells": [
  {
   "cell_type": "markdown",
   "id": "6adcaee3",
   "metadata": {},
   "source": [
    "Manage a TO do List"
   ]
  },
  {
   "cell_type": "code",
   "execution_count": 1,
   "id": "5a850a68",
   "metadata": {},
   "outputs": [
    {
     "name": "stdout",
     "output_type": "stream",
     "text": [
      "['Buy groceries', 'Clean the house', 'Pay bills', 'Walk the dog']\n",
      "['Buy groceries', 'Clean the house', 'Walk the dog']\n",
      "['Buy groceries', 'Clean the house - Done', 'Walk the dog']\n",
      "Buy groceries\n",
      "Clean the house - Done\n",
      "Walk the dog\n"
     ]
    }
   ],
   "source": [
    "# To do list : \n",
    "\n",
    "to_do_list = [\"Buy groceries\", \"Clean the house\", \"Pay bills\"]\n",
    "\n",
    "# adding the task\n",
    "\n",
    "to_do_list.append(\"Walk the dog\")\n",
    "print(to_do_list)\n",
    "# removing the task\n",
    "to_do_list.remove(\"Pay bills\")\n",
    "print(to_do_list)\n",
    "# marking the task as done\n",
    "to_do_list[1] = \"Clean the house - Done\"\n",
    "print(to_do_list)\n",
    "# viewing the tasks\n",
    "for task in to_do_list:\n",
    "    print(task)\n",
    "# prioritizing the tasks\n",
    "to_do_list.insert(0, \"Finish project\")"
   ]
  },
  {
   "cell_type": "code",
   "execution_count": null,
   "id": "c56b215e",
   "metadata": {},
   "outputs": [
    {
     "name": "stdout",
     "output_type": "stream",
     "text": [
      "Average Grade : 88.00\n"
     ]
    }
   ],
   "source": [
    "# Create a list to store and calculate average grades for students\n",
    "\n",
    "grades = [85,92,78,90,88]\n",
    "\n",
    "# Adding a new grade\n",
    "grades.append(95)\n",
    "\n",
    "# calculate the highest and lowest grade\n",
    "average_grade = sum(grades)/ len(grades)\n",
    "print(f\"Average Grade : {average_grade:.2f}\")\n",
    "\n",
    "# finding the highest and lowest grades\n",
    "highest_grade = max(grades)\n",
    "lowest_grade = min(grade)\n",
    "print(f\"Highest grade : {highest_grade}\")"
   ]
  },
  {
   "cell_type": "code",
   "execution_count": null,
   "id": "4b08b9c4",
   "metadata": {},
   "outputs": [],
   "source": []
  }
 ],
 "metadata": {
  "kernelspec": {
   "display_name": ".venv",
   "language": "python",
   "name": "python3"
  },
  "language_info": {
   "codemirror_mode": {
    "name": "ipython",
    "version": 3
   },
   "file_extension": ".py",
   "mimetype": "text/x-python",
   "name": "python",
   "nbconvert_exporter": "python",
   "pygments_lexer": "ipython3",
   "version": "3.12.4"
  }
 },
 "nbformat": 4,
 "nbformat_minor": 5
}
