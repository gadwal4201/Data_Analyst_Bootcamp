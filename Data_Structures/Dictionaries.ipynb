{
 "cells": [
  {
   "cell_type": "markdown",
   "id": "2122ce47",
   "metadata": {},
   "source": [
    "# Dictionaries\n"
   ]
  },
  {
   "cell_type": "code",
   "execution_count": 2,
   "id": "6d4679eb",
   "metadata": {},
   "outputs": [
    {
     "name": "stdout",
     "output_type": "stream",
     "text": [
      "{}\n",
      "<class 'dict'>\n"
     ]
    }
   ],
   "source": [
    "dct = {}\n",
    "print(dct)\n",
    "print(type(dct))"
   ]
  },
  {
   "cell_type": "code",
   "execution_count": 3,
   "id": "65c9f743",
   "metadata": {},
   "outputs": [
    {
     "name": "stdout",
     "output_type": "stream",
     "text": [
      "{'name': 'John', 'age': 21, 'courses': ['Math', 'Science', 'English'], 'is_active': True, 'address': {'street': '123 Main St', 'city': 'New York', 'zip': '10001'}}\n"
     ]
    }
   ],
   "source": [
    "student = {\n",
    "    \"name\": \"John\",\n",
    "    \"age\": 21,\n",
    "    \"courses\": [\"Math\", \"Science\", \"English\"],\n",
    "    \"is_active\": True,\n",
    "    \"address\": {\n",
    "        \"street\": \"123 Main St\",\n",
    "        \"city\": \"New York\",\n",
    "        \"zip\": \"10001\"\n",
    "    }\n",
    "}\n",
    "\n",
    "print(student)"
   ]
  },
  {
   "cell_type": "code",
   "execution_count": 4,
   "id": "297afb43",
   "metadata": {},
   "outputs": [
    {
     "name": "stdout",
     "output_type": "stream",
     "text": [
      "John\n",
      "['Math', 'Science', 'English']\n",
      "New York\n"
     ]
    }
   ],
   "source": [
    "# accessing dictionary elements\n",
    "\n",
    "print(student[\"name\"])\n",
    "print(student[\"courses\"])\n",
    "print(student[\"address\"][\"city\"])"
   ]
  },
  {
   "cell_type": "code",
   "execution_count": 9,
   "id": "0644e898",
   "metadata": {},
   "outputs": [
    {
     "name": "stdout",
     "output_type": "stream",
     "text": [
      "John\n",
      "Not Found\n",
      "Not Found\n"
     ]
    }
   ],
   "source": [
    "print(student.get(\"name\"))\n",
    "print(student.get(\"phone\", \"Not Found\"))\n",
    "print(student.get(\"phone\", \"Not Found\"))"
   ]
  },
  {
   "cell_type": "code",
   "execution_count": 10,
   "id": "59a9b938",
   "metadata": {},
   "outputs": [
    {
     "ename": "KeyError",
     "evalue": "'phone'",
     "output_type": "error",
     "traceback": [
      "\u001b[31m---------------------------------------------------------------------------\u001b[39m",
      "\u001b[31mKeyError\u001b[39m                                  Traceback (most recent call last)",
      "\u001b[36mCell\u001b[39m\u001b[36m \u001b[39m\u001b[32mIn[10]\u001b[39m\u001b[32m, line 1\u001b[39m\n\u001b[32m----> \u001b[39m\u001b[32m1\u001b[39m \u001b[38;5;28mprint\u001b[39m(\u001b[43mstudent\u001b[49m\u001b[43m[\u001b[49m\u001b[33;43m'\u001b[39;49m\u001b[33;43mphone\u001b[39;49m\u001b[33;43m'\u001b[39;49m\u001b[43m]\u001b[49m)\n",
      "\u001b[31mKeyError\u001b[39m: 'phone'"
     ]
    }
   ],
   "source": [
    "print(student['phone'])\n"
   ]
  },
  {
   "cell_type": "code",
   "execution_count": 12,
   "id": "4bfcde69",
   "metadata": {},
   "outputs": [
    {
     "name": "stdout",
     "output_type": "stream",
     "text": [
      "{'name': 'John', 'age': 22, 'courses': ['Math', 'Science', 'English'], 'is_active': True, 'address': {'street': '123 Main St', 'city': 'New York', 'zip': '10001'}}\n"
     ]
    }
   ],
   "source": [
    "# Dictionary are mutable, meaning we can change their content\n",
    "\n",
    "student['age'] = 22\n",
    "print(student)"
   ]
  },
  {
   "cell_type": "code",
   "execution_count": 13,
   "id": "f8c2253e",
   "metadata": {},
   "outputs": [
    {
     "name": "stdout",
     "output_type": "stream",
     "text": [
      "{'name': 'John', 'age': 22, 'courses': ['Math', 'Science', 'English'], 'is_active': True, 'address': {'street': '123 Main St', 'city': 'New York', 'zip': '10001'}, 'phone': '555-555-5555'}\n"
     ]
    }
   ],
   "source": [
    "student['phone'] = '555-555-5555'\n",
    "print(student)"
   ]
  },
  {
   "cell_type": "code",
   "execution_count": 14,
   "id": "bfb2b145",
   "metadata": {},
   "outputs": [
    {
     "name": "stdout",
     "output_type": "stream",
     "text": [
      "{'name': 'John', 'age': 22, 'courses': ['Math', 'Science', 'English'], 'address': {'street': '123 Main St', 'city': 'New York', 'zip': '10001'}, 'phone': '555-555-5555'}\n"
     ]
    }
   ],
   "source": [
    "del student['is_active']\n",
    "print(student)"
   ]
  },
  {
   "cell_type": "code",
   "execution_count": 16,
   "id": "6d277289",
   "metadata": {},
   "outputs": [
    {
     "name": "stdout",
     "output_type": "stream",
     "text": [
      "dict_keys(['name', 'age', 'courses', 'address', 'phone'])\n",
      "dict_values(['John', 22, ['Math', 'Science', 'English'], {'street': '123 Main St', 'city': 'New York', 'zip': '10001'}, '555-555-5555'])\n"
     ]
    }
   ],
   "source": [
    "print(student.keys())\n",
    "print(student.values())"
   ]
  },
  {
   "cell_type": "code",
   "execution_count": 17,
   "id": "b3aad813",
   "metadata": {},
   "outputs": [
    {
     "name": "stdout",
     "output_type": "stream",
     "text": [
      "{'name': 'John', 'age': 22, 'courses': ['Math', 'Science', 'English'], 'address': {'street': '123 Main St', 'city': 'New York', 'zip': '10001'}, 'phone': '555-555-5555'}\n"
     ]
    }
   ],
   "source": [
    "# shallow copy \n",
    "student2 = student\n",
    "print(student2)"
   ]
  },
  {
   "cell_type": "code",
   "execution_count": 18,
   "id": "ce473aeb",
   "metadata": {},
   "outputs": [
    {
     "name": "stdout",
     "output_type": "stream",
     "text": [
      "{'name': 'John', 'age': 22, 'courses': ['Math', 'Science', 'English'], 'address': {'street': '123 Main St', 'city': 'New York', 'zip': '10001'}, 'phone': '444-444-4444'}\n",
      "{'name': 'John', 'age': 22, 'courses': ['Math', 'Science', 'English'], 'address': {'street': '123 Main St', 'city': 'New York', 'zip': '10001'}, 'phone': '444-444-4444'}\n"
     ]
    }
   ],
   "source": [
    "student['phone'] = '444-444-4444'\n",
    "print(student)\n",
    "print(student2)"
   ]
  },
  {
   "cell_type": "code",
   "execution_count": 20,
   "id": "aaa9bd83",
   "metadata": {},
   "outputs": [
    {
     "name": "stdout",
     "output_type": "stream",
     "text": [
      "{'name': 'John', 'age': 22, 'courses': ['Math', 'Science', 'English'], 'address': {'street': '123 Main St', 'city': 'New York', 'zip': '10001'}, 'phone': '333-333-3333'}\n",
      "{'name': 'John', 'age': 22, 'courses': ['Math', 'Science', 'English'], 'address': {'street': '123 Main St', 'city': 'New York', 'zip': '10001'}, 'phone': '333-333-3333'}\n"
     ]
    }
   ],
   "source": [
    "student3 = student\n",
    "student3['phone'] = '333-333-3333'\n",
    "print(student3) \n",
    "print(student)"
   ]
  },
  {
   "cell_type": "code",
   "execution_count": 21,
   "id": "7ebb377e",
   "metadata": {},
   "outputs": [
    {
     "name": "stdout",
     "output_type": "stream",
     "text": [
      "{'name': 'John', 'age': 22, 'courses': ['Math', 'Science', 'English'], 'address': {'street': '123 Main St', 'city': 'New York', 'zip': '10001'}, 'phone': '333-333-3333'}\n",
      "{'name': 'John', 'age': 22, 'courses': ['Math', 'Science', 'English'], 'address': {'street': '123 Main St', 'city': 'New York', 'zip': '10001'}, 'phone': '333-333-3333'}\n"
     ]
    }
   ],
   "source": [
    "student_copy = student.copy()\n",
    "print(student_copy)\n",
    "print(student)"
   ]
  },
  {
   "cell_type": "code",
   "execution_count": 22,
   "id": "243fba1d",
   "metadata": {},
   "outputs": [
    {
     "name": "stdout",
     "output_type": "stream",
     "text": [
      "{'name': 'John', 'age': 22, 'courses': ['Math', 'Science', 'English'], 'address': {'street': '123 Main St', 'city': 'New York', 'zip': '10001'}, 'phone': '899-899-8999'}\n",
      "{'name': 'John', 'age': 22, 'courses': ['Math', 'Science', 'English'], 'address': {'street': '123 Main St', 'city': 'New York', 'zip': '10001'}, 'phone': '333-333-3333'}\n"
     ]
    }
   ],
   "source": [
    "student['phone'] = '899-899-8999'\n",
    "print(student)\n",
    "print(student_copy)"
   ]
  },
  {
   "cell_type": "code",
   "execution_count": 23,
   "id": "ce2a608e",
   "metadata": {},
   "outputs": [
    {
     "name": "stdout",
     "output_type": "stream",
     "text": [
      "name\n",
      "age\n",
      "courses\n",
      "address\n",
      "phone\n"
     ]
    }
   ],
   "source": [
    "# Iterate over keys\n",
    "\n",
    "for keys in student:\n",
    "    print(keys)"
   ]
  },
  {
   "cell_type": "code",
   "execution_count": 24,
   "id": "80dbb216",
   "metadata": {},
   "outputs": [
    {
     "name": "stdout",
     "output_type": "stream",
     "text": [
      "John\n",
      "22\n",
      "['Math', 'Science', 'English']\n",
      "{'street': '123 Main St', 'city': 'New York', 'zip': '10001'}\n",
      "899-899-8999\n"
     ]
    }
   ],
   "source": [
    "# Iterate over values\n",
    "for values in student.values():\n",
    "    print(values)"
   ]
  },
  {
   "cell_type": "code",
   "execution_count": 25,
   "id": "480b550b",
   "metadata": {},
   "outputs": [
    {
     "name": "stdout",
     "output_type": "stream",
     "text": [
      "name: John\n",
      "age: 22\n",
      "courses: ['Math', 'Science', 'English']\n",
      "address: {'street': '123 Main St', 'city': 'New York', 'zip': '10001'}\n",
      "phone: 899-899-8999\n"
     ]
    }
   ],
   "source": [
    "# Iterate over key-value pairs\n",
    "for key, value in student.items():\n",
    "    print(f\"{key}: {value}\")"
   ]
  },
  {
   "cell_type": "code",
   "execution_count": 26,
   "id": "a26783e8",
   "metadata": {},
   "outputs": [],
   "source": [
    "# Nested Dictionaries\n",
    "\n",
    "students = {\n",
    "    \"student1\": {\n",
    "        \"name\": \"John\",\n",
    "        \"age\": 21,\n",
    "        \"courses\": [\"Math\", \"Science\"]\n",
    "    },\n",
    "    \"student2\": {\n",
    "        \"name\": \"Jane\",\n",
    "        \"age\": 22,\n",
    "        \"courses\": [\"English\", \"History\"]\n",
    "    }\n",
    "}"
   ]
  },
  {
   "cell_type": "code",
   "execution_count": 28,
   "id": "e9206ad2",
   "metadata": {},
   "outputs": [
    {
     "name": "stdout",
     "output_type": "stream",
     "text": [
      "John\n",
      "21\n",
      "['Math', 'Science']\n",
      "Jane\n",
      "22\n",
      "['English', 'History']\n"
     ]
    }
   ],
   "source": [
    "print(students['student1']['name'])\n",
    "print(students['student1']['age'])\n",
    "print(students['student1']['courses'])\n",
    "print(students['student2']['name'])\n",
    "print(students['student2']['age'])\n",
    "print(students['student2']['courses'])"
   ]
  },
  {
   "cell_type": "code",
   "execution_count": 29,
   "id": "93b9a45a",
   "metadata": {},
   "outputs": [
    {
     "name": "stdout",
     "output_type": "stream",
     "text": [
      "\n",
      "student1:{'name': 'John', 'age': 21, 'courses': ['Math', 'Science']}\n",
      "  name: John\n",
      "  age: 21\n",
      "  courses: ['Math', 'Science']\n",
      "\n",
      "student2:{'name': 'Jane', 'age': 22, 'courses': ['English', 'History']}\n",
      "  name: Jane\n",
      "  age: 22\n",
      "  courses: ['English', 'History']\n"
     ]
    }
   ],
   "source": [
    "# Iterating through nested dictionaries\n",
    "\n",
    "for student_id, student_info in students.items():\n",
    "    print(f\"\\n{student_id}:{student_info}\")\n",
    "    for key, value in student_info.items():\n",
    "        print(f\"  {key}: {value}\")"
   ]
  },
  {
   "cell_type": "code",
   "execution_count": 31,
   "id": "9022481e",
   "metadata": {},
   "outputs": [
    {
     "name": "stdout",
     "output_type": "stream",
     "text": [
      "{0: 0, 1: 2, 2: 4, 3: 6, 4: 8, 5: 10}\n"
     ]
    }
   ],
   "source": [
    "# Dictionary Comprehensions\n",
    "\n",
    "squares = {x: x*2 for x in range(6)}\n",
    "print(squares)"
   ]
  },
  {
   "cell_type": "code",
   "execution_count": 33,
   "id": "391a3964",
   "metadata": {},
   "outputs": [
    {
     "name": "stdout",
     "output_type": "stream",
     "text": [
      "{0: 0, 2: 4, 4: 8, 6: 12, 8: 16, 10: 20, 12: 24, 14: 28, 16: 32, 18: 36}\n"
     ]
    }
   ],
   "source": [
    "# Conditional Dictionary Comprehensions\n",
    "\n",
    "even_squares = {x: x*2 for x in range(20) if x % 2 == 0}\n",
    "print(even_squares)"
   ]
  },
  {
   "cell_type": "code",
   "execution_count": 34,
   "id": "7f32800a",
   "metadata": {},
   "outputs": [
    {
     "name": "stdout",
     "output_type": "stream",
     "text": [
      "{1: 1, 2: 2, 3: 1, 4: 3, 5: 1}\n"
     ]
    }
   ],
   "source": [
    "# Pratical Example\n",
    "\n",
    "# Use a dictionary to count the frequency of elements in a list\n",
    "\n",
    "numbers = [1, 2, 2, 3, 4, 4, 4, 5]\n",
    "frequency = {}\n",
    "\n",
    "for nums in numbers:\n",
    "    if nums in frequency:\n",
    "        frequency[nums] += 1\n",
    "    else:\n",
    "        frequency[nums] = 1\n",
    "        \n",
    "print(frequency)"
   ]
  },
  {
   "cell_type": "code",
   "execution_count": 35,
   "id": "b405d705",
   "metadata": {},
   "outputs": [
    {
     "name": "stdout",
     "output_type": "stream",
     "text": [
      "{'a': 1, 'b': 3, 'c': 4}\n"
     ]
    }
   ],
   "source": [
    "# Merge two dictionaries\n",
    "\n",
    "dict1 = {'a': 1, 'b': 2}\n",
    "dict2 = {'b': 3, 'c': 4}\n",
    "\n",
    "merged_dict = {**dict1, **dict2}\n",
    "print(merged_dict)"
   ]
  },
  {
   "cell_type": "code",
   "execution_count": null,
   "id": "408f6900",
   "metadata": {},
   "outputs": [],
   "source": []
  }
 ],
 "metadata": {
  "kernelspec": {
   "display_name": ".venv",
   "language": "python",
   "name": "python3"
  },
  "language_info": {
   "codemirror_mode": {
    "name": "ipython",
    "version": 3
   },
   "file_extension": ".py",
   "mimetype": "text/x-python",
   "name": "python",
   "nbconvert_exporter": "python",
   "pygments_lexer": "ipython3",
   "version": "3.12.4"
  }
 },
 "nbformat": 4,
 "nbformat_minor": 5
}
