{
 "cells": [
  {
   "cell_type": "markdown",
   "id": "2a857316",
   "metadata": {},
   "source": [
    "# Numpy"
   ]
  },
  {
   "cell_type": "code",
   "execution_count": 1,
   "id": "8fc09410",
   "metadata": {},
   "outputs": [],
   "source": [
    "# Numpy introduction : Numpy is a fundamental library for scientific computin in Python. It provides support for arrays, matrices, and a wide range of mathematical functions to operate on these data structures efficiently.\n",
    "import numpy as np\n",
    "\n",
    "# pip install numpy"
   ]
  },
  {
   "cell_type": "code",
   "execution_count": 2,
   "id": "257b79d1",
   "metadata": {},
   "outputs": [
    {
     "name": "stdout",
     "output_type": "stream",
     "text": [
      "Requirement already satisfied: numpy in d:\\data_analyst_bootcamp\\.venv\\lib\\site-packages (2.3.3)\n"
     ]
    }
   ],
   "source": [
    "!pip install numpy"
   ]
  },
  {
   "cell_type": "code",
   "execution_count": null,
   "id": "4a1ebe83",
   "metadata": {},
   "outputs": [
    {
     "name": "stdout",
     "output_type": "stream",
     "text": [
      "[1 2 3 4 5 6]\n",
      "<class 'numpy.ndarray'>\n",
      "(6,)\n"
     ]
    }
   ],
   "source": [
    "# Create array using numpy\n",
    "# create a 1D array\n",
    "\n",
    "arr1 = np.array([1,2,3,4,5,6])\n",
    "print(arr1)\n",
    "print(type(arr1))\n",
    "print(arr1.shape) # shape function gives the dimension of the array"
   ]
  },
  {
   "cell_type": "code",
   "execution_count": null,
   "id": "efe37cc9",
   "metadata": {},
   "outputs": [
    {
     "name": "stdout",
     "output_type": "stream",
     "text": [
      "[[1 2 3 4]\n",
      " [5 6 7 8]]\n",
      "[[[1 2]\n",
      "  [3 4]]\n",
      "\n",
      " [[5 6]\n",
      "  [7 8]]]\n"
     ]
    },
    {
     "data": {
      "text/plain": [
       "array([[[1, 2],\n",
       "        [3, 4]],\n",
       "\n",
       "       [[5, 6],\n",
       "        [7, 8]]])"
      ]
     },
     "execution_count": 29,
     "metadata": {},
     "output_type": "execute_result"
    }
   ],
   "source": [
    "arr2 = np.array([1,2,3,4,5,6,7,8])\n",
    "print(arr2.reshape(2,4))  # reshape function is used to change the shape of the array\n",
    "print(arr2.reshape(2,2,2))  \n",
    "arr2.reshape(2,2,2)"
   ]
  },
  {
   "cell_type": "code",
   "execution_count": 5,
   "id": "fbc91c4c",
   "metadata": {},
   "outputs": [
    {
     "name": "stdout",
     "output_type": "stream",
     "text": [
      "[[1 2 3 4 5 6 7]]\n"
     ]
    }
   ],
   "source": [
    "arr2 = np.array([[1,2,3,4,5,6,7]])\n",
    "print(arr2)"
   ]
  },
  {
   "cell_type": "code",
   "execution_count": 6,
   "id": "a6d9ae7b",
   "metadata": {},
   "outputs": [
    {
     "name": "stdout",
     "output_type": "stream",
     "text": [
      "[[ 1  2  3  4  5]\n",
      " [ 2  3 45  9  8]]\n"
     ]
    }
   ],
   "source": [
    "arr2 = np.array([[1,2,3,4,5],[2,3,45,9,8]])\n",
    "print(arr2)"
   ]
  },
  {
   "cell_type": "code",
   "execution_count": null,
   "id": "ee888509",
   "metadata": {},
   "outputs": [
    {
     "data": {
      "text/plain": [
       "array([[0],\n",
       "       [2],\n",
       "       [4],\n",
       "       [6],\n",
       "       [8]])"
      ]
     },
     "execution_count": 7,
     "metadata": {},
     "output_type": "execute_result"
    }
   ],
   "source": [
    "np.arange(0,10,2).reshape(5,1) # arange function is used to create an array with a range of values"
   ]
  },
  {
   "cell_type": "code",
   "execution_count": 30,
   "id": "b71f6f42",
   "metadata": {},
   "outputs": [
    {
     "name": "stdout",
     "output_type": "stream",
     "text": [
      "[[1. 1. 1. 1.]\n",
      " [1. 1. 1. 1.]\n",
      " [1. 1. 1. 1.]]\n",
      "[[0. 0. 0.]\n",
      " [0. 0. 0.]]\n"
     ]
    }
   ],
   "source": [
    "np.ones((3,4)) # ones function is used to create an array of ones with given shape\n",
    "print(np.ones((3,4)))\n",
    "np.zeros((2,3)) # zeros function is used to create an array of zeros with given shape\n",
    "print(np.zeros((2,3)))"
   ]
  },
  {
   "cell_type": "code",
   "execution_count": null,
   "id": "864d31b1",
   "metadata": {},
   "outputs": [
    {
     "name": "stdout",
     "output_type": "stream",
     "text": [
      "[[1. 0. 0. 0.]\n",
      " [0. 1. 0. 0.]\n",
      " [0. 0. 1. 0.]\n",
      " [0. 0. 0. 1.]]\n"
     ]
    }
   ],
   "source": [
    "# Identity matrix\n",
    "# eye function is used to create an identity matrix of given size\n",
    "\n",
    "np.eye(4)  # 4x4 identity matrix\n",
    "print(np.eye(4))"
   ]
  },
  {
   "cell_type": "code",
   "execution_count": 10,
   "id": "a6c31ddf",
   "metadata": {},
   "outputs": [
    {
     "name": "stdout",
     "output_type": "stream",
     "text": [
      "Array:\n",
      " [[1 2 3]\n",
      " [4 5 6]\n",
      " [7 8 9]]\n",
      "Shape: (3, 3)\n",
      "Dimensions: 2\n",
      "Size: 9\n",
      "Data type: int64\n",
      "Item size: 8\n",
      "Total bytes: 72\n"
     ]
    }
   ],
   "source": [
    "arr = np.array([[1,2,3],[4,5,6],[7,8,9]])\n",
    "\n",
    "print(\"Array:\\n\",arr)\n",
    "print(\"Shape:\",arr.shape)\n",
    "print(\"Dimensions:\",arr.ndim)  # number of dimensions\n",
    "print(\"Size:\",arr.size)  # total number of elements in the array\n",
    "print(\"Data type:\",arr.dtype)  # data type of elements in the array\n",
    "print(\"Item size:\",arr.itemsize)  # size of each element in bytes\n",
    "print(\"Total bytes:\",arr.nbytes)  # total size of the array in bytes (itemsize * size)"
   ]
  },
  {
   "cell_type": "code",
   "execution_count": 11,
   "id": "bf382f7d",
   "metadata": {},
   "outputs": [
    {
     "name": "stdout",
     "output_type": "stream",
     "text": [
      "Addition: [110  22  33 440  55]\n",
      "Subtraction: [ -90   18   27 -360   45]\n",
      "Multiplication: [ 1000    40    90 16000   250]\n",
      "Division: [ 0.1 10.  10.   0.1 10. ]\n",
      "Square of arr1: [ 10000      4      9 160000     25]\n",
      "Square root of arr2: [3.16227766 4.47213595 5.47722558 6.32455532 7.07106781]\n",
      "Exponential of arr1: [2.68811714e+043 7.38905610e+000 2.00855369e+001 5.22146969e+173\n",
      " 1.48413159e+002]\n",
      "Logarithm of arr2: [2.30258509 2.99573227 3.40119738 3.68887945 3.91202301]\n",
      "Sine of arr1: [-0.50636564  0.90929743  0.14112001 -0.85091936 -0.95892427]\n",
      "Cosine of arr1: [ 0.86231887 -0.41614684 -0.9899925  -0.52529634  0.28366219]\n",
      "Tangent of arr1: [-0.58721392 -2.18503986 -0.14254654  1.61988443 -3.38051501]\n",
      "Element-wise maximum: [100  20  30 400  50]\n",
      "Element-wise minimum: [10  2  3 40  5]\n",
      "Dot product: 17380\n",
      "Sum of arr1: 510\n",
      "Sum of arr2: 150\n",
      "Mean of arr1: 102.0\n",
      "Mean of arr2: 30.0\n"
     ]
    }
   ],
   "source": [
    "# Numpy Vectorized Operations\n",
    "\n",
    "arr1 = np.array([100,2,3,400,5])\n",
    "arr2 = np.array([10,20,30,40,50])\n",
    "\n",
    "# Element-wise addition\n",
    "print(\"Addition:\", arr1 + arr2)\n",
    "# Element-wise subtraction\n",
    "print(\"Subtraction:\", arr2 - arr1)\n",
    "# Element-wise multiplication\n",
    "print(\"Multiplication:\", arr1 * arr2)\n",
    "# Element-wise division\n",
    "print(\"Division:\", arr2 / arr1)\n",
    "# Element-wise square\n",
    "print(\"Square of arr1:\", arr1 ** 2)\n",
    "# Element-wise square root\n",
    "print(\"Square root of arr2:\", np.sqrt(arr2))\n",
    "# Element-wise exponential\n",
    "print(\"Exponential of arr1:\", np.exp(arr1))\n",
    "# Element-wise logarithm\n",
    "print(\"Logarithm of arr2:\", np.log(arr2))\n",
    "# Element-wise sine\n",
    "print(\"Sine of arr1:\", np.sin(arr1))\n",
    "# Element-wise cosine\n",
    "print(\"Cosine of arr1:\", np.cos(arr1))\n",
    "# Element-wise tangent\n",
    "print(\"Tangent of arr1:\", np.tan(arr1))\n",
    "# Element-wise maximum\n",
    "print(\"Element-wise maximum:\", np.maximum(arr1, arr2))\n",
    "# Element-wise minimum\n",
    "print(\"Element-wise minimum:\", np.minimum(arr1, arr2))\n",
    "# Dot product\n",
    "print(\"Dot product:\", np.dot(arr1, arr2))\n",
    "# Sum of all elements\n",
    "print(\"Sum of arr1:\", np.sum(arr1))\n",
    "print(\"Sum of arr2:\", np.sum(arr2))\n",
    "# Mean of all elements\n",
    "print(\"Mean of arr1:\", np.mean(arr1))\n",
    "print(\"Mean of arr2:\", np.mean(arr2))"
   ]
  },
  {
   "cell_type": "code",
   "execution_count": 12,
   "id": "dac53ddd",
   "metadata": {},
   "outputs": [
    {
     "name": "stdout",
     "output_type": "stream",
     "text": [
      "Original Array:\n",
      " [[ 1  2  3  4]\n",
      " [ 5  6  7  8]\n",
      " [ 9 10 11 12]]\n"
     ]
    }
   ],
   "source": [
    "# Array Indexing and Slicing\n",
    "\n",
    "arr = np.array([[1,2,3,4],\n",
    "                [5,6,7,8],\n",
    "                [9,10,11,12]])\n",
    "\n",
    "print(\"Original Array:\\n\", arr)"
   ]
  },
  {
   "cell_type": "code",
   "execution_count": 13,
   "id": "26b77b62",
   "metadata": {},
   "outputs": [
    {
     "name": "stdout",
     "output_type": "stream",
     "text": [
      "Element at (0,0): 1\n"
     ]
    }
   ],
   "source": [
    "arr[0][0]  # Accessing first element (1)\n",
    "print(\"Element at (0,0):\", arr[0][0])"
   ]
  },
  {
   "cell_type": "code",
   "execution_count": 14,
   "id": "6b35bfa3",
   "metadata": {},
   "outputs": [
    {
     "name": "stdout",
     "output_type": "stream",
     "text": [
      "Sliced Array from (1,2) to end:\n",
      " [[ 7  8]\n",
      " [11 12]]\n"
     ]
    }
   ],
   "source": [
    "arr[1:,2:]  # Slicing from second row and third column to the end\n",
    "print(\"Sliced Array from (1,2) to end:\\n\", arr[1:,2:])"
   ]
  },
  {
   "cell_type": "code",
   "execution_count": 15,
   "id": "f089a674",
   "metadata": {},
   "outputs": [
    {
     "name": "stdout",
     "output_type": "stream",
     "text": [
      "[[ 6  7]\n",
      " [10 11]]\n"
     ]
    }
   ],
   "source": [
    "print(arr[1:3,1:3])  # Slicing from second row and second column to third row and third column"
   ]
  },
  {
   "cell_type": "code",
   "execution_count": 16,
   "id": "9859488e",
   "metadata": {},
   "outputs": [
    {
     "name": "stdout",
     "output_type": "stream",
     "text": [
      "Modified Array:\n",
      " [[100   2   3   4]\n",
      " [  5   6   7   8]\n",
      " [  9  10  11  12]]\n"
     ]
    }
   ],
   "source": [
    "# Modify array element\n",
    "\n",
    "arr[0][0] = 100\n",
    "print(\"Modified Array:\\n\", arr)"
   ]
  },
  {
   "cell_type": "code",
   "execution_count": 17,
   "id": "9249b67d",
   "metadata": {},
   "outputs": [],
   "source": [
    "arr[1:]=200"
   ]
  },
  {
   "cell_type": "code",
   "execution_count": 18,
   "id": "944dbbe6",
   "metadata": {},
   "outputs": [
    {
     "data": {
      "text/plain": [
       "array([[100,   2,   3,   4],\n",
       "       [200, 200, 200, 200],\n",
       "       [200, 200, 200, 200]])"
      ]
     },
     "execution_count": 18,
     "metadata": {},
     "output_type": "execute_result"
    }
   ],
   "source": [
    "arr"
   ]
  },
  {
   "cell_type": "code",
   "execution_count": 31,
   "id": "a77569a0",
   "metadata": {},
   "outputs": [
    {
     "name": "stdout",
     "output_type": "stream",
     "text": [
      "Normalized Data: [-1.34164079 -0.4472136   0.4472136   1.34164079]\n"
     ]
    }
   ],
   "source": [
    "# Statistical  concepts using Numpy -- Normalization, Standardization, to have mean 0 and standard deviation 1\n",
    "\n",
    "data = np.array([1,2,3,4])\n",
    "\n",
    "# Calculate mean and standard deviation\n",
    "mean = np.mean(data)\n",
    "std_dev = np.std(data)\n",
    "\n",
    "# Normalize the data\n",
    "normalized_data = (data - mean) / std_dev\n",
    "print(\"Normalized Data:\", normalized_data)"
   ]
  },
  {
   "cell_type": "code",
   "execution_count": 32,
   "id": "c782f2d3",
   "metadata": {},
   "outputs": [
    {
     "name": "stdout",
     "output_type": "stream",
     "text": [
      "Mean: 2.5\n",
      "Median: 2.5\n",
      "Standard Deviation: 1.118033988749895\n",
      "Variance: 1.25\n"
     ]
    }
   ],
   "source": [
    "# Mean\n",
    "mean = np.mean(data)\n",
    "print(\"Mean:\", mean)\n",
    "# Median\n",
    "median = np.median(data)\n",
    "print(\"Median:\", median)\n",
    "# Standard Deviation\n",
    "std_dev = np.std(data)\n",
    "print(\"Standard Deviation:\", std_dev)\n",
    "# Variance\n",
    "var = np.var(data)\n",
    "print(\"Variance:\", var)"
   ]
  },
  {
   "cell_type": "code",
   "execution_count": 33,
   "id": "cffed724",
   "metadata": {},
   "outputs": [
    {
     "data": {
      "text/plain": [
       "array([False, False, False,  True])"
      ]
     },
     "execution_count": 33,
     "metadata": {},
     "output_type": "execute_result"
    }
   ],
   "source": [
    "data1 = np.array([1,2,3,4])\n",
    "\n",
    "data1>3"
   ]
  },
  {
   "cell_type": "code",
   "execution_count": 34,
   "id": "87e5a697",
   "metadata": {},
   "outputs": [
    {
     "data": {
      "text/plain": [
       "array([4])"
      ]
     },
     "execution_count": 34,
     "metadata": {},
     "output_type": "execute_result"
    }
   ],
   "source": [
    "data1[data1>3]  # Filtering elements greater than 5"
   ]
  },
  {
   "cell_type": "code",
   "execution_count": 35,
   "id": "1752f2cf",
   "metadata": {},
   "outputs": [
    {
     "data": {
      "text/plain": [
       "array([], dtype=int64)"
      ]
     },
     "execution_count": 35,
     "metadata": {},
     "output_type": "execute_result"
    }
   ],
   "source": [
    "data1[(data1>3) & (data1<4)]  # Elements greater than 3 and less than 8"
   ]
  },
  {
   "cell_type": "code",
   "execution_count": null,
   "id": "97fd893c",
   "metadata": {},
   "outputs": [],
   "source": []
  }
 ],
 "metadata": {
  "kernelspec": {
   "display_name": ".venv",
   "language": "python",
   "name": "python3"
  },
  "language_info": {
   "codemirror_mode": {
    "name": "ipython",
    "version": 3
   },
   "file_extension": ".py",
   "mimetype": "text/x-python",
   "name": "python",
   "nbconvert_exporter": "python",
   "pygments_lexer": "ipython3",
   "version": "3.12.4"
  }
 },
 "nbformat": 4,
 "nbformat_minor": 5
}
